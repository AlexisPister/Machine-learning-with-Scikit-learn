{
 "cells": [
  {
   "cell_type": "markdown",
   "metadata": {},
   "source": [
    "# Techniques d'apprentissage automatique\n",
    "## TP2 - Apprentissage supervisé avec python\n",
    "### Alexis Pister"
   ]
  },
  {
   "cell_type": "code",
   "execution_count": 1,
   "metadata": {},
   "outputs": [],
   "source": [
    "# Imports\n",
    "import numpy as np\n",
    "np.set_printoptions(threshold=np.nan,suppress=True)\n",
    "import pandas as pd\n",
    "import warnings\n",
    "import matplotlib.pyplot as plt\n",
    "import sklearn\n",
    "warnings.filterwarnings('ignore')"
   ]
  },
  {
   "cell_type": "markdown",
   "metadata": {},
   "source": [
    "### Question 1"
   ]
  },
  {
   "cell_type": "code",
   "execution_count": 99,
   "metadata": {},
   "outputs": [
    {
     "name": "stdout",
     "output_type": "stream",
     "text": [
      "(4375,)\n"
     ]
    },
    {
     "data": {
      "text/plain": [
       "(array([1216.,    0.,    0.,    0.,    0.,    0.,    0.,    0.,    0.,\n",
       "        3159.]),\n",
       " array([0. , 0.1, 0.2, 0.3, 0.4, 0.5, 0.6, 0.7, 0.8, 0.9, 1. ]),\n",
       " <a list of 10 Patch objects>)"
      ]
     },
     "execution_count": 99,
     "metadata": {},
     "output_type": "execute_result"
    },
    {
     "data": {
      "image/png": "[encoded data removed]",
      "text/plain": [
       "<Figure size 432x288 with 1 Axes>"
      ]
     },
     "metadata": {},
     "output_type": "display_data"
    }
   ],
   "source": [
    "# Data processing\n",
    "df = pd.read_csv('./credit_scoring.csv', sep=\";\")\n",
    "data = df.values\n",
    "colonnes = df.columns\n",
    "\n",
    "# Variables caracteristiques\n",
    "X = data[:,:-1]\n",
    "# Labels a predire\n",
    "Y = data[:,-1]\n",
    "\n",
    "# Analyse des données\n",
    "print(np.shape(Y))\n",
    "plt.hist(Y)"
   ]
  },
  {
   "cell_type": "markdown",
   "metadata": {},
   "source": [
    "Le jeu de données comporte 4375 échantillons, avec 1216 négatifs (0) et 3159 positifs (1)."
   ]
  },
  {
   "cell_type": "markdown",
   "metadata": {},
   "source": [
    "### Question 2"
   ]
  },
  {
   "cell_type": "code",
   "execution_count": 3,
   "metadata": {},
   "outputs": [
    {
     "name": "stdout",
     "output_type": "stream",
     "text": [
      "[[183 214]\n",
      " [201 846]]\n",
      "              precision    recall  f1-score   support\n",
      "\n",
      "         0.0       0.48      0.46      0.47       397\n",
      "         1.0       0.80      0.81      0.80      1047\n",
      "\n",
      "   micro avg       0.71      0.71      0.71      1444\n",
      "   macro avg       0.64      0.63      0.64      1444\n",
      "weighted avg       0.71      0.71      0.71      1444\n",
      "\n"
     ]
    }
   ],
   "source": [
    "from sklearn.model_selection import train_test_split\n",
    "from sklearn.tree import DecisionTreeClassifier\n",
    "from sklearn.metrics import classification_report, confusion_matrix, accuracy_score\n",
    "\n",
    "# Separation en train et test set\n",
    "X_train, X_test, y_train, y_test = train_test_split(X, Y, test_size=0.33, random_state=42)\n",
    "\n",
    "# Arbre CART\n",
    "# Classifier initialisation\n",
    "classifier = DecisionTreeClassifier(random_state=1)\n",
    "# training\n",
    "classifier.fit(X_train, y_train)\n",
    "\n",
    "# Test\n",
    "y_pred = classifier.predict(X_test)\n",
    "\n",
    "# Results of classification (metrics)\n",
    "print(confusion_matrix(y_test, y_pred))\n",
    "print(classification_report(y_test, y_pred))"
   ]
  },
  {
   "cell_type": "code",
   "execution_count": 4,
   "metadata": {},
   "outputs": [
    {
     "name": "stdout",
     "output_type": "stream",
     "text": [
      "[[124 273]\n",
      " [131 916]]\n",
      "              precision    recall  f1-score   support\n",
      "\n",
      "         0.0       0.49      0.31      0.38       397\n",
      "         1.0       0.77      0.87      0.82      1047\n",
      "\n",
      "   micro avg       0.72      0.72      0.72      1444\n",
      "   macro avg       0.63      0.59      0.60      1444\n",
      "weighted avg       0.69      0.72      0.70      1444\n",
      "\n"
     ]
    }
   ],
   "source": [
    "from sklearn.neighbors import KNeighborsClassifier\n",
    "# K plus proches voisins\n",
    "\n",
    "# Classifier initialisation\n",
    "kppv = KNeighborsClassifier(n_neighbors=5)\n",
    "# training\n",
    "kppv.fit(X_train, y_train)\n",
    "\n",
    "# Test\n",
    "y_pred = kppv.predict(X_test)\n",
    "\n",
    "# Results of classification (metrics)\n",
    "print(confusion_matrix(y_test, y_pred))\n",
    "print(classification_report(y_test, y_pred))"
   ]
  },
  {
   "cell_type": "markdown",
   "metadata": {},
   "source": [
    "Dans notre cas d'étude où on recherche des profils qui peuvent rembourser des crédit, il parait plus judicieux de comparer la précision que le rappel. En effet, si la banque donne un crédit non rembousé, elle est beaucoup plus perdante que si elle gagne un crédit en plus. On cherche donc plus la sécurité et donc la précision que la quantité associée au rappel.\n",
    "\n",
    "L'arbre CART et les k-plus-proche-voisins donnent respectivement un score-F1 (correspondant ici à l'accuracy) pondéré par les proportions des 2 classes de 0.71 et 0.70, et une précision pondérée de 0.71 et 0.69.\n",
    "\n",
    "Les 2 classifieurs donnent donc des résultats très proche et il est dur de les différencier. A choisir, on favoriserai tout de même l'arbre CART donnant un score et une précision un peu plus important."
   ]
  },
  {
   "cell_type": "markdown",
   "metadata": {},
   "source": [
    "### Question 3"
   ]
  },
  {
   "cell_type": "code",
   "execution_count": 5,
   "metadata": {},
   "outputs": [
    {
     "name": "stdout",
     "output_type": "stream",
     "text": [
      "Standard normalisation\n",
      "Arbre CART\n",
      "[[184 213]\n",
      " [202 845]]\n",
      "              precision    recall  f1-score   support\n",
      "\n",
      "         0.0       0.48      0.46      0.47       397\n",
      "         1.0       0.80      0.81      0.80      1047\n",
      "\n",
      "   micro avg       0.71      0.71      0.71      1444\n",
      "   macro avg       0.64      0.64      0.64      1444\n",
      "weighted avg       0.71      0.71      0.71      1444\n",
      "\n",
      "KPPV\n",
      "[[179 218]\n",
      " [147 900]]\n",
      "              precision    recall  f1-score   support\n",
      "\n",
      "         0.0       0.55      0.45      0.50       397\n",
      "         1.0       0.81      0.86      0.83      1047\n",
      "\n",
      "   micro avg       0.75      0.75      0.75      1444\n",
      "   macro avg       0.68      0.66      0.66      1444\n",
      "weighted avg       0.73      0.75      0.74      1444\n",
      "\n"
     ]
    }
   ],
   "source": [
    "# On normalise les données\n",
    "from sklearn.preprocessing import StandardScaler, MinMaxScaler\n",
    "\n",
    "# Standard normalisation\n",
    "print('Standard normalisation')\n",
    "Xnorm = StandardScaler().fit(X).transform(X)\n",
    "\n",
    "# Separation en train et test set\n",
    "X_train, X_test, y_train, y_test = train_test_split(Xnorm, Y, test_size=0.33, random_state=42)\n",
    "\n",
    "# Arbre CART\n",
    "print('Arbre CART')\n",
    "classifier.fit(X_train, y_train)\n",
    "y_pred = classifier.predict(X_test)\n",
    "print(confusion_matrix(y_test, y_pred))\n",
    "print(classification_report(y_test, y_pred))\n",
    "\n",
    "# kppv\n",
    "print('KPPV')\n",
    "kppv.fit(X_train, y_train)\n",
    "y_pred = kppv.predict(X_test)\n",
    "print(confusion_matrix(y_test, y_pred))\n",
    "print(classification_report(y_test, y_pred))\n"
   ]
  },
  {
   "cell_type": "code",
   "execution_count": 6,
   "metadata": {},
   "outputs": [
    {
     "name": "stdout",
     "output_type": "stream",
     "text": [
      "MinMax normalisation\n",
      "Arbre CART\n",
      "[[183 214]\n",
      " [202 845]]\n",
      "              precision    recall  f1-score   support\n",
      "\n",
      "         0.0       0.48      0.46      0.47       397\n",
      "         1.0       0.80      0.81      0.80      1047\n",
      "\n",
      "   micro avg       0.71      0.71      0.71      1444\n",
      "   macro avg       0.64      0.63      0.64      1444\n",
      "weighted avg       0.71      0.71      0.71      1444\n",
      "\n",
      "KPPV\n",
      "[[170 227]\n",
      " [139 908]]\n",
      "              precision    recall  f1-score   support\n",
      "\n",
      "         0.0       0.55      0.43      0.48       397\n",
      "         1.0       0.80      0.87      0.83      1047\n",
      "\n",
      "   micro avg       0.75      0.75      0.75      1444\n",
      "   macro avg       0.68      0.65      0.66      1444\n",
      "weighted avg       0.73      0.75      0.74      1444\n",
      "\n"
     ]
    }
   ],
   "source": [
    "# MinMax normalisation\n",
    "print('MinMax normalisation')\n",
    "Xnorm = MinMaxScaler().fit(X).transform(X)\n",
    "\n",
    "# Separation en train et test set\n",
    "X_train, X_test, y_train, y_test = train_test_split(Xnorm, Y, test_size=0.33, random_state=42)\n",
    "\n",
    "# Arbre CART\n",
    "print('Arbre CART')\n",
    "classifier.fit(X_train, y_train)\n",
    "y_pred = classifier.predict(X_test)\n",
    "print(confusion_matrix(y_test, y_pred))\n",
    "print(classification_report(y_test, y_pred))\n",
    "\n",
    "# kpv\n",
    "print('KPPV')\n",
    "kppv.fit(X_train, y_train)\n",
    "y_pred = kppv.predict(X_test)\n",
    "print(confusion_matrix(y_test, y_pred))\n",
    "print(classification_report(y_test, y_pred))"
   ]
  },
  {
   "cell_type": "markdown",
   "metadata": {},
   "source": [
    "Pour le classifieur CART, il semble que normaliser les données ne change pas les metriques de classification, autant pour une normalisation normale que Min-Max. Cependant, cela améliore la classification pour la technique des k-plus-proche-voisins.\n",
    "La précision et le score f1 pondérés passent respectivement de 0.69 et 0.70 à 0.73 et 0.74 après la normalisation (autant pour la normalisation normale et MinMax), ce qui donne une classification meilleurs que l'arbre de décision."
   ]
  },
  {
   "cell_type": "markdown",
   "metadata": {},
   "source": [
    "### Question 4 : Ajout de l'ACP"
   ]
  },
  {
   "cell_type": "code",
   "execution_count": 7,
   "metadata": {},
   "outputs": [
    {
     "name": "stdout",
     "output_type": "stream",
     "text": [
      "Variance expliquée par les composantes de l'acp :  [0.3132101  0.23599    0.16118877 0.13889973 0.05277771 0.04561142\n",
      " 0.01634432 0.01459562 0.01082235 0.0064157  0.00173251 0.00129816\n",
      " 0.00111361]\n",
      "Arbre CART\n",
      "[[204 193]\n",
      " [209 838]]\n",
      "              precision    recall  f1-score   support\n",
      "\n",
      "         0.0       0.49      0.51      0.50       397\n",
      "         1.0       0.81      0.80      0.81      1047\n",
      "\n",
      "   micro avg       0.72      0.72      0.72      1444\n",
      "   macro avg       0.65      0.66      0.66      1444\n",
      "weighted avg       0.73      0.72      0.72      1444\n",
      "\n",
      "KPPV\n",
      "[[171 226]\n",
      " [140 907]]\n",
      "              precision    recall  f1-score   support\n",
      "\n",
      "         0.0       0.55      0.43      0.48       397\n",
      "         1.0       0.80      0.87      0.83      1047\n",
      "\n",
      "   micro avg       0.75      0.75      0.75      1444\n",
      "   macro avg       0.68      0.65      0.66      1444\n",
      "weighted avg       0.73      0.75      0.74      1444\n",
      "\n"
     ]
    }
   ],
   "source": [
    "from sklearn.decomposition import PCA\n",
    "\n",
    "# PCA\n",
    "acp = PCA(svd_solver='full')\n",
    "Xacp = acp.fit_transform(Xnorm)\n",
    "\n",
    "# On va garder les 4 premieres dimensions de l'acp qui expliquent 90% de l'information\n",
    "print(\"Variance expliquée par les composantes de l'acp : \", acp.explained_variance_ratio_)\n",
    "\n",
    "# On rajoute les 4 nouvelles dimensions au jeu de données\n",
    "Xnew = np.hstack((Xnorm, Xacp[:,:4]))\n",
    "\n",
    "# Separation en train et test set\n",
    "X_train_pca, X_test_pca, y_train, y_test = train_test_split(Xnew, Y, test_size=0.33, random_state=42)\n",
    "\n",
    "# Arbre CART\n",
    "print('Arbre CART')\n",
    "classifier.fit(X_train_pca, y_train)\n",
    "y_pred = classifier.predict(X_test_pca)\n",
    "print(confusion_matrix(y_test, y_pred))\n",
    "print(classification_report(y_test, y_pred))\n",
    "\n",
    "# kpv\n",
    "print('KPPV')\n",
    "kppv.fit(X_train_pca, y_train)\n",
    "y_pred = kppv.predict(X_test_pca)\n",
    "print(confusion_matrix(y_test, y_pred))\n",
    "print(classification_report(y_test, y_pred))"
   ]
  },
  {
   "cell_type": "markdown",
   "metadata": {},
   "source": [
    "On remarque que l'ajout des 4 dimensions de l'ACP augmente la précision, le rappel et le score pondérés de 1% pour l'arbre de décision. On peut considérer que dans un sens l'ACP rajoute une part d'informations au données qui amélore la classification, même si elle se base sur les variables initiales."
   ]
  },
  {
   "cell_type": "markdown",
   "metadata": {},
   "source": [
    "### Question 5"
   ]
  },
  {
   "cell_type": "code",
   "execution_count": 8,
   "metadata": {},
   "outputs": [
    {
     "name": "stdout",
     "output_type": "stream",
     "text": [
      "['Income' 'Price' 'Seniority' 'Amount' 'Age' 'Assets' 'Expenses' 'Records'\n",
      " 'Time' 'Job' 'Debt' 'Home' 'Marital']\n"
     ]
    },
    {
     "data": {
      "image/png": "[encoded data removed]",
      "text/plain": [
       "<Figure size 432x288 with 1 Axes>"
      ]
     },
     "metadata": {},
     "output_type": "display_data"
    }
   ],
   "source": [
    "from sklearn.ensemble import RandomForestClassifier\n",
    "colonnes = np.array(colonnes)\n",
    "clf = RandomForestClassifier(n_estimators=100)\n",
    "clf.fit(Xnorm, Y)\n",
    "importances=clf.feature_importances_\n",
    "std = np.std([tree.feature_importances_ for tree in clf.estimators_],axis=0)\n",
    "sorted_idx = np.argsort(importances)[::-1]\n",
    "features = colonnes\n",
    "print(features[sorted_idx])\n",
    "padding = np.arange(X_train.size/len(X_train)) + 0.5\n",
    "plt.barh(padding, importances[sorted_idx],xerr=std[sorted_idx], align='center')\n",
    "plt.yticks(padding, features[sorted_idx])\n",
    "plt.xlabel(\"Relative Importance\")\n",
    "plt.title(\"Variable Importance\")\n",
    "plt.show()"
   ]
  },
  {
   "cell_type": "code",
   "execution_count": 9,
   "metadata": {},
   "outputs": [
    {
     "data": {
      "image/png": "[encoded data removed]",
      "text/plain": [
       "<Figure size 432x288 with 1 Axes>"
      ]
     },
     "metadata": {},
     "output_type": "display_data"
    }
   ],
   "source": [
    "# On determine le nombre de variables a garder\n",
    "KNN=KNeighborsClassifier(n_neighbors=5)\n",
    "scores=np.zeros(X_train_pca.shape[1]+1)\n",
    "for f in np.arange(0, X_train_pca.shape[1]+1):\n",
    "    X1_f = X_train_pca[:,sorted_idx[:f+1]]\n",
    "    X2_f = X_test_pca[:,sorted_idx[:f+1]]\n",
    "    KNN.fit(X1_f,y_train)\n",
    "    YKNN=KNN.predict(X2_f)\n",
    "    scores[f]=np.round(accuracy_score(y_test,YKNN),3)\n",
    "plt.plot(scores)\n",
    "plt.xlabel(\"Nombre de Variables\")\n",
    "plt.ylabel(\"Accuracy\")\n",
    "plt.title(\"Evolution de l'accuracy en fonction des variables\")\n",
    "plt.show()"
   ]
  },
  {
   "cell_type": "markdown",
   "metadata": {},
   "source": [
    "On peut voir à l'aide du graphique qu'on obtient une accuracy la plus grande de 0.75 en choisissant 7 variables."
   ]
  },
  {
   "cell_type": "markdown",
   "metadata": {},
   "source": [
    "### Question 6"
   ]
  },
  {
   "cell_type": "code",
   "execution_count": 10,
   "metadata": {},
   "outputs": [
    {
     "name": "stdout",
     "output_type": "stream",
     "text": [
      "{'splitter': 'random', 'criterion': 'entropy', 'max_depth': 5}\n",
      "0.7703855339474582\n"
     ]
    }
   ],
   "source": [
    "from sklearn.model_selection import GridSearchCV\n",
    "# On va faire une recherche des meilleurs parametres pour l'arbre de decision et les KPPV\n",
    "\n",
    "parameters = {'criterion': ['gini', 'entropy'], 'splitter': ['best', 'random'], 'max_depth':[None,2,3,4,5,6,7]}\n",
    "tree = DecisionTreeClassifier(random_state=1)\n",
    "clf = GridSearchCV(tree, parameters)\n",
    "clf.fit(X_train_pca, y_train)\n",
    "y_pred = clf.predict(X_test_pca)\n",
    "\n",
    "print(clf.best_params_)\n",
    "print(clf.best_score_)"
   ]
  },
  {
   "cell_type": "markdown",
   "metadata": {},
   "source": [
    "Sur les paramètres étudiées (criterion, splitter et max_depth), le meilleurs classifieur est obtenu avec la fonction d'entropy comme fonction de qualité, une stratégie aléatoire pour choisir la séparation à chaque noeud, et une longueur maximal de l'arbre de 5. Un score de 0.77 est alors obtenu."
   ]
  },
  {
   "cell_type": "code",
   "execution_count": 11,
   "metadata": {},
   "outputs": [
    {
     "name": "stdout",
     "output_type": "stream",
     "text": [
      "{'n_neighbors': 7, 'weights': 'distance', 'algorithm': 'auto', 'p': 2}\n",
      "0.7683384510406005\n"
     ]
    }
   ],
   "source": [
    "parameters = {'n_neighbors':[3,4,5,6,7,8,9,10],\n",
    "              'weights':['uniform', 'distance'],\n",
    "              'algorithm':['auto', 'ball_tree', 'kd_tree', 'brute'],\n",
    "              'p':[1,2]}\n",
    "kppv = KNeighborsClassifier()\n",
    "clf = GridSearchCV(kppv, parameters)\n",
    "clf.fit(X_train_pca, y_train)\n",
    "y_pred = clf.predict(X_test_pca)\n",
    "\n",
    "print(clf.best_params_)\n",
    "print(clf.best_score_)"
   ]
  },
  {
   "cell_type": "markdown",
   "metadata": {},
   "source": [
    "Pour les k-plus-proche-voisins, le meilleurs score de 0.76 est obtenu avec k = 7, la distance euclidienne utilisée, des poids inverses, et un algorithme de calcul des plus proches voisins décidé automatiquement."
   ]
  },
  {
   "cell_type": "markdown",
   "metadata": {},
   "source": [
    "### Question 7 : Pipeline"
   ]
  },
  {
   "cell_type": "code",
   "execution_count": 12,
   "metadata": {},
   "outputs": [
    {
     "name": "stdout",
     "output_type": "stream",
     "text": [
      "              precision    recall  f1-score   support\n",
      "\n",
      "         0.0       0.44      0.46      0.45       397\n",
      "         1.0       0.79      0.78      0.78      1047\n",
      "\n",
      "   micro avg       0.69      0.69      0.69      1444\n",
      "   macro avg       0.62      0.62      0.62      1444\n",
      "weighted avg       0.70      0.69      0.69      1444\n",
      "\n"
     ]
    }
   ],
   "source": [
    "from sklearn.pipeline import Pipeline, FeatureUnion\n",
    "\n",
    "pipeline = Pipeline([\n",
    "    ('Normalization', MinMaxScaler()),\n",
    "    ('feats', FeatureUnion([\n",
    "        ('PCA', PCA(n_components = 0.90, svd_solver='full'))\n",
    "    ])),\n",
    "    ('classifier', DecisionTreeClassifier(random_state=1))  # classifier\n",
    "])\n",
    "\n",
    "X_train, X_test, y_train, y_test = train_test_split(X, Y, test_size=0.33, random_state=42)\n",
    "\n",
    "# train the classifier\n",
    "fit = pipeline.fit(X_train, y_train)\n",
    "# test the classifier\n",
    "y_pred = pipeline.predict(X_test)\n",
    "\n",
    "print(classification_report(y_test, y_pred))"
   ]
  },
  {
   "cell_type": "code",
   "execution_count": 13,
   "metadata": {},
   "outputs": [
    {
     "name": "stdout",
     "output_type": "stream",
     "text": [
      "              precision    recall  f1-score   support\n",
      "\n",
      "         0.0       0.54      0.41      0.47       397\n",
      "         1.0       0.80      0.87      0.83      1047\n",
      "\n",
      "   micro avg       0.74      0.74      0.74      1444\n",
      "   macro avg       0.67      0.64      0.65      1444\n",
      "weighted avg       0.73      0.74      0.73      1444\n",
      "\n"
     ]
    }
   ],
   "source": [
    "# KPPV\n",
    "pipeline = Pipeline([\n",
    "    ('Normalization', MinMaxScaler()),\n",
    "    ('feats', FeatureUnion([\n",
    "        ('PCA', PCA(n_components = 0.90, svd_solver='full'))\n",
    "    ])),\n",
    "    ('kppv', KNeighborsClassifier(n_neighbors=7))\n",
    "])\n",
    "\n",
    "# train the classifier\n",
    "fit = pipeline.fit(X_train, y_train)\n",
    "# test the classifier\n",
    "y_pred = pipeline.predict(X_test)\n",
    "\n",
    "print(classification_report(y_test, y_pred))"
   ]
  },
  {
   "cell_type": "markdown",
   "metadata": {},
   "source": [
    "Les résultats ne sont pas exactement les mêmes. Cela doit venir de la normalisation qui se fait ici sur les jeux d'entrainement et les jeux de test de manère séparé."
   ]
  },
  {
   "cell_type": "markdown",
   "metadata": {},
   "source": [
    "### Question 8 : comparaison de classifieurs"
   ]
  },
  {
   "cell_type": "code",
   "execution_count": 84,
   "metadata": {},
   "outputs": [
    {
     "name": "stdout",
     "output_type": "stream",
     "text": [
      "\n",
      "\n",
      "======= MLP =======\n",
      "\n",
      "Temps d'exécution d'un cross val : 26.064749240875244 secondes\n",
      "Accuracy for MLP is: 0.790 +/- 0.019\n",
      "AUC for MLP is: 0.832 +/- 0.019\n",
      "precision for MLP is: 0.834 +/- 0.025\n",
      "\n",
      "\n",
      "======= ID3 =======\n",
      "\n",
      "Temps d'exécution d'un cross val : 1.469139575958252 secondes\n",
      "Accuracy for ID3 is: 0.716 +/- 0.014\n",
      "AUC for ID3 is: 0.650 +/- 0.020\n",
      "precision for ID3 is: 0.806 +/- 0.022\n",
      "\n",
      "\n",
      "======= ADABOOST =======\n",
      "\n",
      "Temps d'exécution d'un cross val : 7.646195888519287 secondes\n",
      "Accuracy for ADABOOST is: 0.792 +/- 0.017\n",
      "AUC for ADABOOST is: 0.829 +/- 0.017\n",
      "precision for ADABOOST is: 0.826 +/- 0.018\n",
      "\n",
      "\n",
      "======= BAGGING =======\n",
      "\n",
      "Temps d'exécution d'un cross val : 30.388845682144165 secondes\n",
      "Accuracy for BAGGING is: 0.778 +/- 0.026\n",
      "AUC for BAGGING is: 0.819 +/- 0.018\n",
      "precision for BAGGING is: 0.823 +/- 0.026\n",
      "\n",
      "\n",
      "======= KPPV =======\n",
      "\n",
      "Temps d'exécution d'un cross val : 0.42798542976379395 secondes\n",
      "Accuracy for KPPV is: 0.762 +/- 0.014\n",
      "AUC for KPPV is: 0.751 +/- 0.019\n",
      "precision for KPPV is: 0.806 +/- 0.021\n",
      "\n",
      "\n",
      "======= RF =======\n",
      "\n",
      "Temps d'exécution d'un cross val : 8.60301923751831 secondes\n",
      "Accuracy for RF is: 0.781 +/- 0.020\n",
      "AUC for RF is: 0.819 +/- 0.020\n",
      "precision for RF is: 0.823 +/- 0.021\n",
      "\n",
      "\n",
      "======= CART =======\n",
      "\n",
      "Temps d'exécution d'un cross val : 1.1187245845794678 secondes\n",
      "Accuracy for CART is: 0.720 +/- 0.017\n",
      "AUC for CART is: 0.659 +/- 0.026\n",
      "precision for CART is: 0.812 +/- 0.025\n",
      "\n",
      "\n",
      "======= NB =======\n",
      "\n",
      "Temps d'exécution d'un cross val : 0.09291934967041016 secondes\n",
      "Accuracy for NB is: 0.761 +/- 0.012\n",
      "AUC for NB is: 0.793 +/- 0.019\n",
      "precision for NB is: 0.846 +/- 0.025\n"
     ]
    }
   ],
   "source": [
    "from sklearn.model_selection import KFold\n",
    "from sklearn.model_selection import cross_val_score\n",
    "from sklearn.naive_bayes import GaussianNB\n",
    "from sklearn.neural_network import MLPClassifier    \n",
    "from sklearn.ensemble import BaggingClassifier\n",
    "from sklearn.ensemble import AdaBoostClassifier\n",
    "import time\n",
    "\n",
    "# Differents classifieurs\n",
    "clfs = {\n",
    "'NB': GaussianNB(),\n",
    "'CART': DecisionTreeClassifier(random_state=1),\n",
    "'RF': RandomForestClassifier(n_estimators=50, random_state=1),\n",
    "'ID3': DecisionTreeClassifier(criterion = 'entropy', random_state=1),\n",
    "'MLP': MLPClassifier(solver='lbfgs',alpha=1e-5,hidden_layer_sizes=(20,10),random_state=1),\n",
    "'KPPV': KNeighborsClassifier(n_neighbors=7),\n",
    "'BAGGING': BaggingClassifier(n_estimators=50,random_state=1),\n",
    "'ADABOOST': AdaBoostClassifier(n_estimators=50, random_state=1)\n",
    "}\n",
    "\n",
    "# Fonction de test des différents classifieurs\n",
    "def run_classifiers(clfs,X,Y):\n",
    "    Xnorm = MinMaxScaler().fit(X).transform(X)\n",
    "    acp = PCA(n_components=0.90, svd_solver='full')\n",
    "    Xacp = acp.fit_transform(Xnorm)\n",
    "    Xproc = np.hstack((Xnorm, Xacp[:,:]))\n",
    "    \n",
    "    kf = KFold(n_splits=10, shuffle=True, random_state=1)\n",
    "    for i in clfs:\n",
    "        clf = clfs[i]\n",
    "        print(\"\\n\\n======= {0} =======\".format(i))\n",
    "        start_time = time.time()\n",
    "        cv_acc = cross_val_score(clf, Xproc, Y, cv=kf)\n",
    "        print('\\nTemps d\\'exécution d\\'un cross val : %s secondes'%(time.time() - start_time))\n",
    "        cv_auc = cross_val_score(clf, Xproc, Y, cv=kf, scoring='roc_auc')\n",
    "        cv_prec = cross_val_score(clf, Xproc, Y, cv=kf, scoring='precision')\n",
    "        print(\"Accuracy for {0} is: {1:.3f} +/- {2:.3f}\".format(i, np.mean(cv_acc), np.std(cv_acc)))\n",
    "        print(\"AUC for {0} is: {1:.3f} +/- {2:.3f}\".format(i, cv_auc.mean(), cv_auc.std()))\n",
    "        print(\"precision for {0} is: {1:.3f} +/- {2:.3f}\".format(i, cv_prec.mean(), cv_prec.std()))\n",
    "\n",
    "run_classifiers(clfs, X, Y)"
   ]
  },
  {
   "cell_type": "markdown",
   "metadata": {},
   "source": [
    "Les meilleurs classifieur semble être les méthodes ensemblistes (random forest et bagging) ainsi que le MultiLayerPerceptron. Cependant, si on regarde juste la précision, c'est le classifieur Bayésien qui donne le meilleurs résultat avec une précision de 0.846."
   ]
  },
  {
   "cell_type": "markdown",
   "metadata": {},
   "source": [
    "## II. Apprentissage supervisé : Données hétérogènes\n",
    "\n",
    "### Question 1"
   ]
  },
  {
   "cell_type": "code",
   "execution_count": 21,
   "metadata": {},
   "outputs": [
    {
     "name": "stdout",
     "output_type": "stream",
     "text": [
      "(666,)\n"
     ]
    },
    {
     "data": {
      "text/plain": [
       "(array([367., 299.]), array([0. , 0.5, 1. ]), <a list of 2 Patch objects>)"
      ]
     },
     "execution_count": 21,
     "metadata": {},
     "output_type": "execute_result"
    },
    {
     "data": {
      "image/png": "[encoded data removed]",
      "text/plain": [
       "<Figure size 432x288 with 1 Axes>"
      ]
     },
     "metadata": {},
     "output_type": "display_data"
    }
   ],
   "source": [
    "df2 = pd.read_csv('./credit.data',sep='\\t', header=None)\n",
    "colonnes = df2.columns\n",
    "values = df2.values\n",
    "\n",
    "# Variables caracteristiques\n",
    "X2 = values[:,:-1]\n",
    "# Labels a predire\n",
    "Y2 = values[:,-1]\n",
    "\n",
    "X2[X2 == '?']=np.nan\n",
    "\n",
    "# Converti en float\n",
    "X2_num = X2[:,(1,2,7,10,13,14)]\n",
    "X2_num = X2_num.astype(np.float32)\n",
    "\n",
    "# Supprimer les nans\n",
    "mask = np.any(np.isnan(X2_num), axis=1)\n",
    "X2_num=X2_num[~mask]\n",
    "Y2 = Y2[~mask]\n",
    "\n",
    "# Converti\n",
    "Y2[Y2 == '+'] = 1\n",
    "Y2[Y2 == '-'] = 0\n",
    "\n",
    "# Analyse des données\n",
    "print(np.shape(Y2))\n",
    "Y2 = Y2.astype(np.int)\n",
    "plt.hist(Y2, bins=2,rwidth=0.5)"
   ]
  },
  {
   "cell_type": "markdown",
   "metadata": {},
   "source": [
    "L'échantillon comporte désormais 666 individus après traitement, avec 367 crédits non accordés (0) et 299 accordés (1)."
   ]
  },
  {
   "cell_type": "code",
   "execution_count": 29,
   "metadata": {},
   "outputs": [
    {
     "name": "stdout",
     "output_type": "stream",
     "text": [
      "\n",
      "\n",
      "======= MLP =======\n",
      "\n",
      "Temps d'exécution d'un cross val : 4.2922303676605225 secondes\n",
      "Accuracy for MLP is: 0.746 +/- 0.046\n",
      "AUC for MLP is: 0.775 +/- 0.047\n",
      "precision for MLP is: 0.729 +/- 0.050\n",
      "\n",
      "\n",
      "======= ID3 =======\n",
      "\n",
      "Temps d'exécution d'un cross val : 0.10726642608642578 secondes\n",
      "Accuracy for ID3 is: 0.700 +/- 0.040\n",
      "AUC for ID3 is: 0.699 +/- 0.041\n",
      "precision for ID3 is: 0.662 +/- 0.057\n",
      "\n",
      "\n",
      "======= ADABOOST =======\n",
      "\n",
      "Temps d'exécution d'un cross val : 1.8083453178405762 secondes\n",
      "Accuracy for ADABOOST is: 0.776 +/- 0.040\n",
      "AUC for ADABOOST is: 0.838 +/- 0.055\n",
      "precision for ADABOOST is: 0.776 +/- 0.082\n",
      "\n",
      "\n",
      "======= BAGGING =======\n",
      "\n",
      "Temps d'exécution d'un cross val : 2.425422191619873 secondes\n",
      "Accuracy for BAGGING is: 0.778 +/- 0.038\n",
      "AUC for BAGGING is: 0.831 +/- 0.044\n",
      "precision for BAGGING is: 0.785 +/- 0.073\n",
      "\n",
      "\n",
      "======= KPPV =======\n",
      "\n",
      "Temps d'exécution d'un cross val : 0.04648280143737793 secondes\n",
      "Accuracy for KPPV is: 0.700 +/- 0.060\n",
      "AUC for KPPV is: 0.725 +/- 0.063\n",
      "precision for KPPV is: 0.706 +/- 0.109\n",
      "\n",
      "\n",
      "======= RF =======\n",
      "\n",
      "Temps d'exécution d'un cross val : 1.6240689754486084 secondes\n",
      "Accuracy for RF is: 0.779 +/- 0.031\n",
      "AUC for RF is: 0.845 +/- 0.042\n",
      "precision for RF is: 0.789 +/- 0.050\n",
      "\n",
      "\n",
      "======= CART =======\n",
      "\n",
      "Temps d'exécution d'un cross val : 0.06854772567749023 secondes\n",
      "Accuracy for CART is: 0.719 +/- 0.066\n",
      "AUC for CART is: 0.718 +/- 0.070\n",
      "precision for CART is: 0.682 +/- 0.084\n",
      "\n",
      "\n",
      "======= NB =======\n",
      "\n",
      "Temps d'exécution d'un cross val : 0.0376734733581543 secondes\n",
      "Accuracy for NB is: 0.722 +/- 0.035\n",
      "AUC for NB is: 0.793 +/- 0.065\n",
      "precision for NB is: 0.834 +/- 0.123\n",
      "\n",
      "\n",
      "======= KNN =======\n",
      "\n",
      "Temps d'exécution d'un cross val : 0.04731559753417969 secondes\n",
      "Accuracy for KNN is: 0.694 +/- 0.066\n",
      "AUC for KNN is: 0.737 +/- 0.063\n",
      "precision for KNN is: 0.736 +/- 0.120\n"
     ]
    }
   ],
   "source": [
    "# Evaluation des modeles sans la normalisation\n",
    "def run_classifiers(clfs,X,Y):\n",
    "    kf = KFold(n_splits=10, shuffle=True, random_state=1)\n",
    "    for i in clfs:\n",
    "        clf = clfs[i]\n",
    "        print(\"\\n\\n======= {0} =======\".format(i))\n",
    "        start_time = time.time()\n",
    "        cv_acc = cross_val_score(clf, X, Y, cv=kf)\n",
    "        print('\\nTemps d\\'exécution d\\'un cross val : %s secondes'%(time.time() - start_time))\n",
    "        cv_auc = cross_val_score(clf, X, Y, cv=kf, scoring='roc_auc')\n",
    "        cv_prec = cross_val_score(clf, X, Y, cv=kf, scoring='precision')\n",
    "        print(\"Accuracy for {0} is: {1:.3f} +/- {2:.3f}\".format(i, np.mean(cv_acc), np.std(cv_acc)))\n",
    "        print(\"AUC for {0} is: {1:.3f} +/- {2:.3f}\".format(i, cv_auc.mean(), cv_auc.std()))\n",
    "        print(\"precision for {0} is: {1:.3f} +/- {2:.3f}\".format(i, cv_prec.mean(), cv_prec.std()))\n",
    "\n",
    "        \n",
    "run_classifiers(clfs, X2_num, Y2)"
   ]
  },
  {
   "cell_type": "markdown",
   "metadata": {},
   "source": [
    "L'évaluation globale d'un classifieur peut se faire à l'aide de l'aire sous la courbe ROC appelée AUC. Il semble que ce sont les méthodes ensemblistes qui donnent les meilleurs résultats si on ne normalise pas les données (Random forests, ADABOOST et bagging). On obtient jusqu'à une AUC de 0.845 avec avec les Random Forests."
   ]
  },
  {
   "cell_type": "code",
   "execution_count": 30,
   "metadata": {},
   "outputs": [
    {
     "name": "stdout",
     "output_type": "stream",
     "text": [
      "\n",
      "\n",
      "======= MLP =======\n",
      "\n",
      "Temps d'exécution d'un cross val : 4.317027807235718 secondes\n",
      "Accuracy for MLP is: 0.733 +/- 0.044\n",
      "AUC for MLP is: 0.780 +/- 0.040\n",
      "precision for MLP is: 0.709 +/- 0.063\n",
      "\n",
      "\n",
      "======= ID3 =======\n",
      "\n",
      "Temps d'exécution d'un cross val : 0.1060800552368164 secondes\n",
      "Accuracy for ID3 is: 0.698 +/- 0.040\n",
      "AUC for ID3 is: 0.697 +/- 0.040\n",
      "precision for ID3 is: 0.661 +/- 0.058\n",
      "\n",
      "\n",
      "======= ADABOOST =======\n",
      "\n",
      "Temps d'exécution d'un cross val : 1.8465638160705566 secondes\n",
      "Accuracy for ADABOOST is: 0.776 +/- 0.040\n",
      "AUC for ADABOOST is: 0.838 +/- 0.055\n",
      "precision for ADABOOST is: 0.776 +/- 0.082\n",
      "\n",
      "\n",
      "======= BAGGING =======\n",
      "\n",
      "Temps d'exécution d'un cross val : 2.4674289226531982 secondes\n",
      "Accuracy for BAGGING is: 0.778 +/- 0.038\n",
      "AUC for BAGGING is: 0.831 +/- 0.045\n",
      "precision for BAGGING is: 0.785 +/- 0.073\n",
      "\n",
      "\n",
      "======= KPPV =======\n",
      "\n",
      "Temps d'exécution d'un cross val : 0.06613397598266602 secondes\n",
      "Accuracy for KPPV is: 0.755 +/- 0.045\n",
      "AUC for KPPV is: 0.804 +/- 0.047\n",
      "precision for KPPV is: 0.805 +/- 0.068\n",
      "\n",
      "\n",
      "======= RF =======\n",
      "\n",
      "Temps d'exécution d'un cross val : 1.8001110553741455 secondes\n",
      "Accuracy for RF is: 0.784 +/- 0.031\n",
      "AUC for RF is: 0.845 +/- 0.040\n",
      "precision for RF is: 0.791 +/- 0.052\n",
      "\n",
      "\n",
      "======= CART =======\n",
      "\n",
      "Temps d'exécution d'un cross val : 0.06916570663452148 secondes\n",
      "Accuracy for CART is: 0.719 +/- 0.064\n",
      "AUC for CART is: 0.718 +/- 0.066\n",
      "precision for CART is: 0.683 +/- 0.080\n",
      "\n",
      "\n",
      "======= NB =======\n",
      "\n",
      "Temps d'exécution d'un cross val : 0.03782510757446289 secondes\n",
      "Accuracy for NB is: 0.722 +/- 0.035\n",
      "AUC for NB is: 0.793 +/- 0.065\n",
      "precision for NB is: 0.834 +/- 0.123\n",
      "\n",
      "\n",
      "======= KNN =======\n",
      "\n",
      "Temps d'exécution d'un cross val : 0.0573885440826416 secondes\n",
      "Accuracy for KNN is: 0.739 +/- 0.032\n",
      "AUC for KNN is: 0.806 +/- 0.050\n",
      "precision for KNN is: 0.841 +/- 0.057\n"
     ]
    }
   ],
   "source": [
    "# On normalise maintenant les données\n",
    "def run_classifiers_norm(clfs,X,Y):\n",
    "    X = StandardScaler().fit(X).transform(X)\n",
    "    kf = KFold(n_splits=10, shuffle=True, random_state=1)\n",
    "    for i in clfs:\n",
    "        clf = clfs[i]\n",
    "        print(\"\\n\\n======= {0} =======\".format(i))\n",
    "        start_time = time.time()\n",
    "        cv_acc = cross_val_score(clf, X, Y, cv=kf)\n",
    "        print('\\nTemps d\\'exécution d\\'un cross val : %s secondes'%(time.time() - start_time))\n",
    "        cv_auc = cross_val_score(clf, X, Y, cv=kf, scoring='roc_auc')\n",
    "        cv_prec = cross_val_score(clf, X, Y, cv=kf, scoring='precision')\n",
    "        print(\"Accuracy for {0} is: {1:.3f} +/- {2:.3f}\".format(i, np.mean(cv_acc), np.std(cv_acc)))\n",
    "        print(\"AUC for {0} is: {1:.3f} +/- {2:.3f}\".format(i, cv_auc.mean(), cv_auc.std()))\n",
    "        print(\"precision for {0} is: {1:.3f} +/- {2:.3f}\".format(i, cv_prec.mean(), cv_prec.std()))\n",
    "        \n",
    "run_classifiers_norm(clfs, X2_num, Y2)"
   ]
  },
  {
   "cell_type": "markdown",
   "metadata": {},
   "source": [
    "Une normalisation standard n'améliore pas les méthodes ensemblistes qui se basent sur des arbres de classification (RF, bagging et adaboost). Cependant, cela améliore l'AUC des techniques utilisant les différentes variables en même temps dans l'agorithme comme les KPPV ou le MLP. L'AUC du KPPV passe alors de 0.725 à 0.804."
   ]
  },
  {
   "cell_type": "markdown",
   "metadata": {},
   "source": [
    "### Question 2 : Traitement sur les données manquantes"
   ]
  },
  {
   "cell_type": "code",
   "execution_count": 104,
   "metadata": {},
   "outputs": [],
   "source": [
    "from sklearn.preprocessing import Imputer\n",
    "\n",
    "# Variables caracteristiques\n",
    "X3 = values[:,:-1]\n",
    "# Labels a predire\n",
    "Y3 = values[:,-1]\n",
    "Y3[Y3 == '+'] = 1\n",
    "Y3[Y3 == '-'] = 0\n",
    "Y3 = Y3.astype(float)\n",
    "\n",
    "# Colonnes categorielles et numériques\n",
    "col_cat = (0,3,4,5,6,8,9,11,12)\n",
    "col_num = (1,2,7,10,13,14)\n",
    "X_cat = np.copy(X3[:, col_cat])\n",
    "X_cat = X_cat.astype(str)\n",
    "\n",
    "# Variables categorielles\n",
    "for col_id in range(len(col_cat)):\n",
    "    unique_val, val_idx = np.unique(X_cat[:, col_id], return_inverse=True)\n",
    "    X_cat[:, col_id] = val_idx\n",
    "imp_cat = Imputer(missing_values=0, strategy='most_frequent')\n",
    "X_cat[:, range(5)] = imp_cat.fit_transform(X_cat[:, range(5)])\n",
    "\n",
    "# Variables numériques\n",
    "X_num = np.copy(X3[:, col_num])\n",
    "X_num[X_num == '?'] = np.nan\n",
    "X_num = X_num.astype(float)\n",
    "imp_num = Imputer(missing_values=np.nan, strategy='mean')\n",
    "X_num = imp_num.fit_transform(X_num)\n"
   ]
  },
  {
   "cell_type": "code",
   "execution_count": 103,
   "metadata": {},
   "outputs": [],
   "source": [
    "from sklearn.preprocessing import OneHotEncoder\n",
    "\n",
    "# On encode les variables categorielles\n",
    "X_cat_bin = OneHotEncoder().fit_transform(X_cat).toarray()\n",
    "X_num_norm = StandardScaler().fit(X_num).transform(X_num)\n",
    "\n",
    "# Jeu de données final\n",
    "X_proc = np.hstack((X_cat_bin, X_num_norm))"
   ]
  },
  {
   "cell_type": "code",
   "execution_count": 102,
   "metadata": {},
   "outputs": [
    {
     "name": "stdout",
     "output_type": "stream",
     "text": [
      "\n",
      "\n",
      "======= MLP =======\n",
      "\n",
      "Temps d'exécution d'un cross val : 9.610473155975342 secondes\n",
      "Accuracy for MLP is: 0.818 +/- 0.053\n",
      "AUC for MLP is: 0.853 +/- 0.045\n",
      "precision for MLP is: 0.804 +/- 0.099\n",
      "\n",
      "\n",
      "======= ID3 =======\n",
      "\n",
      "Temps d'exécution d'un cross val : 0.15278959274291992 secondes\n",
      "Accuracy for ID3 is: 0.804 +/- 0.039\n",
      "AUC for ID3 is: 0.797 +/- 0.038\n",
      "precision for ID3 is: 0.793 +/- 0.093\n",
      "\n",
      "\n",
      "======= ADABOOST =======\n",
      "\n",
      "Temps d'exécution d'un cross val : 2.116410493850708 secondes\n",
      "Accuracy for ADABOOST is: 0.846 +/- 0.045\n",
      "AUC for ADABOOST is: 0.910 +/- 0.051\n",
      "precision for ADABOOST is: 0.814 +/- 0.063\n",
      "\n",
      "\n",
      "======= BAGGING =======\n",
      "\n",
      "Temps d'exécution d'un cross val : 3.3180441856384277 secondes\n",
      "Accuracy for BAGGING is: 0.865 +/- 0.039\n",
      "AUC for BAGGING is: 0.913 +/- 0.049\n",
      "precision for BAGGING is: 0.842 +/- 0.081\n",
      "\n",
      "\n",
      "======= KPPV =======\n",
      "\n",
      "Temps d'exécution d'un cross val : 0.1545276641845703 secondes\n",
      "Accuracy for KPPV is: 0.846 +/- 0.050\n",
      "AUC for KPPV is: 0.906 +/- 0.043\n",
      "precision for KPPV is: 0.846 +/- 0.098\n",
      "\n",
      "\n",
      "======= RF =======\n",
      "\n",
      "Temps d'exécution d'un cross val : 1.3382036685943604 secondes\n",
      "Accuracy for RF is: 0.878 +/- 0.038\n",
      "AUC for RF is: 0.928 +/- 0.047\n",
      "precision for RF is: 0.850 +/- 0.070\n",
      "\n",
      "\n",
      "======= CART =======\n",
      "\n",
      "Temps d'exécution d'un cross val : 0.09280705451965332 secondes\n",
      "Accuracy for CART is: 0.797 +/- 0.055\n",
      "AUC for CART is: 0.790 +/- 0.064\n",
      "precision for CART is: 0.764 +/- 0.076\n",
      "\n",
      "\n",
      "======= NB =======\n",
      "\n",
      "Temps d'exécution d'un cross val : 0.046060800552368164 secondes\n",
      "Accuracy for NB is: 0.764 +/- 0.070\n",
      "AUC for NB is: 0.868 +/- 0.056\n",
      "precision for NB is: 0.868 +/- 0.081\n"
     ]
    }
   ],
   "source": [
    "# Classification\n",
    "run_classifiers(clfs, X_proc, Y3)"
   ]
  },
  {
   "cell_type": "markdown",
   "metadata": {},
   "source": [
    "L'apport de l'information des variables catégorielles augmente grandement la qualité de la classification. Si on regarde l'AUC ce sont toujours les classifieurs ensemblistes qui donnent les meilleurs résultats, avec le Random Forest en tête avec une AUC de 0.928 d'AUC. Le classifieur Bayésien reste cependant le classifieur qui donne la meilleurs précision de 0.868."
   ]
  },
  {
   "cell_type": "markdown",
   "metadata": {},
   "source": [
    "## III. Apprentissage supervisé sur des données textuelles : Feature engineering et Classification"
   ]
  },
  {
   "cell_type": "code",
   "execution_count": 150,
   "metadata": {},
   "outputs": [
    {
     "name": "stdout",
     "output_type": "stream",
     "text": [
      "\n",
      "\n",
      "======= MLP =======\n",
      "\n",
      "Temps d'exécution d'un cross val : 21.15338945388794 secondes\n",
      "Accuracy for MLP is: 0.987 +/- 0.002\n",
      "AUC for MLP is: 0.984 +/- 0.010\n",
      "precision for MLP is: 0.980 +/- 0.014\n",
      "\n",
      "\n",
      "======= ID3 =======\n",
      "\n",
      "Temps d'exécution d'un cross val : 4.25559663772583 secondes\n",
      "Accuracy for ID3 is: 0.971 +/- 0.007\n",
      "AUC for ID3 is: 0.922 +/- 0.025\n",
      "precision for ID3 is: 0.919 +/- 0.025\n",
      "\n",
      "\n",
      "======= ADABOOST =======\n",
      "\n",
      "Temps d'exécution d'un cross val : 34.99478626251221 secondes\n",
      "Accuracy for ADABOOST is: 0.973 +/- 0.002\n",
      "AUC for ADABOOST is: 0.979 +/- 0.012\n",
      "precision for ADABOOST is: 0.946 +/- 0.024\n",
      "\n",
      "\n",
      "======= BAGGING =======\n",
      "\n",
      "Temps d'exécution d'un cross val : 143.6916308403015 secondes\n",
      "Accuracy for BAGGING is: 0.976 +/- 0.007\n",
      "AUC for BAGGING is: 0.981 +/- 0.012\n",
      "precision for BAGGING is: 0.940 +/- 0.027\n",
      "\n",
      "\n",
      "======= KPPV =======\n",
      "\n",
      "Temps d'exécution d'un cross val : 1.8782908916473389 secondes\n",
      "Accuracy for KPPV is: 0.912 +/- 0.011\n",
      "AUC for KPPV is: 0.855 +/- 0.023\n",
      "precision for KPPV is: 1.000 +/- 0.000\n",
      "\n",
      "\n",
      "======= RF =======\n",
      "\n",
      "Temps d'exécution d'un cross val : 43.43914866447449 secondes\n",
      "Accuracy for RF is: 0.978 +/- 0.006\n",
      "AUC for RF is: 0.992 +/- 0.007\n",
      "precision for RF is: 0.998 +/- 0.005\n",
      "\n",
      "\n",
      "======= CART =======\n",
      "\n",
      "Temps d'exécution d'un cross val : 5.238362073898315 secondes\n",
      "Accuracy for CART is: 0.970 +/- 0.009\n",
      "AUC for CART is: 0.926 +/- 0.029\n",
      "precision for CART is: 0.908 +/- 0.028\n",
      "\n",
      "\n",
      "======= NB =======\n"
     ]
    },
    {
     "ename": "TypeError",
     "evalue": "A sparse matrix was passed, but dense data is required. Use X.toarray() to convert to a dense numpy array.",
     "output_type": "error",
     "traceback": [
      "\u001b[0;31m---------------------------------------------------------------------------\u001b[0m",
      "\u001b[0;31mTypeError\u001b[0m                                 Traceback (most recent call last)",
      "\u001b[0;32m<ipython-input-150-d6ac142aa8cb>\u001b[0m in \u001b[0;36m<module>\u001b[0;34m()\u001b[0m\n\u001b[1;32m     14\u001b[0m \u001b[0mvectorizer\u001b[0m \u001b[0;34m=\u001b[0m \u001b[0mCountVectorizer\u001b[0m\u001b[0;34m(\u001b[0m\u001b[0;34m)\u001b[0m\u001b[0;34m\u001b[0m\u001b[0m\n\u001b[1;32m     15\u001b[0m \u001b[0mXvectorized\u001b[0m \u001b[0;34m=\u001b[0m \u001b[0mvectorizer\u001b[0m\u001b[0;34m.\u001b[0m\u001b[0mfit_transform\u001b[0m\u001b[0;34m(\u001b[0m\u001b[0mXtxt\u001b[0m\u001b[0;34m,\u001b[0m \u001b[0;34m)\u001b[0m\u001b[0;34m\u001b[0m\u001b[0m\n\u001b[0;32m---> 16\u001b[0;31m \u001b[0mrun_classifiers\u001b[0m\u001b[0;34m(\u001b[0m\u001b[0mX\u001b[0m\u001b[0;34m=\u001b[0m\u001b[0mXvectorized\u001b[0m\u001b[0;34m,\u001b[0m \u001b[0mY\u001b[0m\u001b[0;34m=\u001b[0m\u001b[0mYtxt\u001b[0m\u001b[0;34m,\u001b[0m \u001b[0mclfs\u001b[0m\u001b[0;34m=\u001b[0m\u001b[0mclfs\u001b[0m\u001b[0;34m)\u001b[0m\u001b[0;34m\u001b[0m\u001b[0m\n\u001b[0m",
      "\u001b[0;32m<ipython-input-85-f152a60de2ee>\u001b[0m in \u001b[0;36mrun_classifiers\u001b[0;34m(clfs, X, Y)\u001b[0m\n\u001b[1;32m      5\u001b[0m         \u001b[0mprint\u001b[0m\u001b[0;34m(\u001b[0m\u001b[0;34m\"\\n\\n======= {0} =======\"\u001b[0m\u001b[0;34m.\u001b[0m\u001b[0mformat\u001b[0m\u001b[0;34m(\u001b[0m\u001b[0mi\u001b[0m\u001b[0;34m)\u001b[0m\u001b[0;34m)\u001b[0m\u001b[0;34m\u001b[0m\u001b[0m\n\u001b[1;32m      6\u001b[0m         \u001b[0mstart_time\u001b[0m \u001b[0;34m=\u001b[0m \u001b[0mtime\u001b[0m\u001b[0;34m.\u001b[0m\u001b[0mtime\u001b[0m\u001b[0;34m(\u001b[0m\u001b[0;34m)\u001b[0m\u001b[0;34m\u001b[0m\u001b[0m\n\u001b[0;32m----> 7\u001b[0;31m         \u001b[0mcv_acc\u001b[0m \u001b[0;34m=\u001b[0m \u001b[0mcross_val_score\u001b[0m\u001b[0;34m(\u001b[0m\u001b[0mclf\u001b[0m\u001b[0;34m,\u001b[0m \u001b[0mX\u001b[0m\u001b[0;34m,\u001b[0m \u001b[0mY\u001b[0m\u001b[0;34m,\u001b[0m \u001b[0mcv\u001b[0m\u001b[0;34m=\u001b[0m\u001b[0mkf\u001b[0m\u001b[0;34m)\u001b[0m\u001b[0;34m\u001b[0m\u001b[0m\n\u001b[0m\u001b[1;32m      8\u001b[0m         \u001b[0mprint\u001b[0m\u001b[0;34m(\u001b[0m\u001b[0;34m'\\nTemps d\\'exécution d\\'un cross val : %s secondes'\u001b[0m\u001b[0;34m%\u001b[0m\u001b[0;34m(\u001b[0m\u001b[0mtime\u001b[0m\u001b[0;34m.\u001b[0m\u001b[0mtime\u001b[0m\u001b[0;34m(\u001b[0m\u001b[0;34m)\u001b[0m \u001b[0;34m-\u001b[0m \u001b[0mstart_time\u001b[0m\u001b[0;34m)\u001b[0m\u001b[0;34m)\u001b[0m\u001b[0;34m\u001b[0m\u001b[0m\n\u001b[1;32m      9\u001b[0m         \u001b[0mcv_auc\u001b[0m \u001b[0;34m=\u001b[0m \u001b[0mcross_val_score\u001b[0m\u001b[0;34m(\u001b[0m\u001b[0mclf\u001b[0m\u001b[0;34m,\u001b[0m \u001b[0mX\u001b[0m\u001b[0;34m,\u001b[0m \u001b[0mY\u001b[0m\u001b[0;34m,\u001b[0m \u001b[0mcv\u001b[0m\u001b[0;34m=\u001b[0m\u001b[0mkf\u001b[0m\u001b[0;34m,\u001b[0m \u001b[0mscoring\u001b[0m\u001b[0;34m=\u001b[0m\u001b[0;34m'roc_auc'\u001b[0m\u001b[0;34m)\u001b[0m\u001b[0;34m\u001b[0m\u001b[0m\n",
      "\u001b[0;32m/usr/local/lib/python3.5/dist-packages/sklearn/model_selection/_validation.py\u001b[0m in \u001b[0;36mcross_val_score\u001b[0;34m(estimator, X, y, groups, scoring, cv, n_jobs, verbose, fit_params, pre_dispatch, error_score)\u001b[0m\n\u001b[1;32m    400\u001b[0m                                 \u001b[0mfit_params\u001b[0m\u001b[0;34m=\u001b[0m\u001b[0mfit_params\u001b[0m\u001b[0;34m,\u001b[0m\u001b[0;34m\u001b[0m\u001b[0m\n\u001b[1;32m    401\u001b[0m                                 \u001b[0mpre_dispatch\u001b[0m\u001b[0;34m=\u001b[0m\u001b[0mpre_dispatch\u001b[0m\u001b[0;34m,\u001b[0m\u001b[0;34m\u001b[0m\u001b[0m\n\u001b[0;32m--> 402\u001b[0;31m                                 error_score=error_score)\n\u001b[0m\u001b[1;32m    403\u001b[0m     \u001b[0;32mreturn\u001b[0m \u001b[0mcv_results\u001b[0m\u001b[0;34m[\u001b[0m\u001b[0;34m'test_score'\u001b[0m\u001b[0;34m]\u001b[0m\u001b[0;34m\u001b[0m\u001b[0m\n\u001b[1;32m    404\u001b[0m \u001b[0;34m\u001b[0m\u001b[0m\n",
      "\u001b[0;32m/usr/local/lib/python3.5/dist-packages/sklearn/model_selection/_validation.py\u001b[0m in \u001b[0;36mcross_validate\u001b[0;34m(estimator, X, y, groups, scoring, cv, n_jobs, verbose, fit_params, pre_dispatch, return_train_score, return_estimator, error_score)\u001b[0m\n\u001b[1;32m    238\u001b[0m             \u001b[0mreturn_times\u001b[0m\u001b[0;34m=\u001b[0m\u001b[0;32mTrue\u001b[0m\u001b[0;34m,\u001b[0m \u001b[0mreturn_estimator\u001b[0m\u001b[0;34m=\u001b[0m\u001b[0mreturn_estimator\u001b[0m\u001b[0;34m,\u001b[0m\u001b[0;34m\u001b[0m\u001b[0m\n\u001b[1;32m    239\u001b[0m             error_score=error_score)\n\u001b[0;32m--> 240\u001b[0;31m         for train, test in cv.split(X, y, groups))\n\u001b[0m\u001b[1;32m    241\u001b[0m \u001b[0;34m\u001b[0m\u001b[0m\n\u001b[1;32m    242\u001b[0m     \u001b[0mzipped_scores\u001b[0m \u001b[0;34m=\u001b[0m \u001b[0mlist\u001b[0m\u001b[0;34m(\u001b[0m\u001b[0mzip\u001b[0m\u001b[0;34m(\u001b[0m\u001b[0;34m*\u001b[0m\u001b[0mscores\u001b[0m\u001b[0;34m)\u001b[0m\u001b[0;34m)\u001b[0m\u001b[0;34m\u001b[0m\u001b[0m\n",
      "\u001b[0;32m/usr/local/lib/python3.5/dist-packages/sklearn/externals/joblib/parallel.py\u001b[0m in \u001b[0;36m__call__\u001b[0;34m(self, iterable)\u001b[0m\n\u001b[1;32m    981\u001b[0m             \u001b[0;31m# remaining jobs.\u001b[0m\u001b[0;34m\u001b[0m\u001b[0;34m\u001b[0m\u001b[0m\n\u001b[1;32m    982\u001b[0m             \u001b[0mself\u001b[0m\u001b[0;34m.\u001b[0m\u001b[0m_iterating\u001b[0m \u001b[0;34m=\u001b[0m \u001b[0;32mFalse\u001b[0m\u001b[0;34m\u001b[0m\u001b[0m\n\u001b[0;32m--> 983\u001b[0;31m             \u001b[0;32mif\u001b[0m \u001b[0mself\u001b[0m\u001b[0;34m.\u001b[0m\u001b[0mdispatch_one_batch\u001b[0m\u001b[0;34m(\u001b[0m\u001b[0miterator\u001b[0m\u001b[0;34m)\u001b[0m\u001b[0;34m:\u001b[0m\u001b[0;34m\u001b[0m\u001b[0m\n\u001b[0m\u001b[1;32m    984\u001b[0m                 \u001b[0mself\u001b[0m\u001b[0;34m.\u001b[0m\u001b[0m_iterating\u001b[0m \u001b[0;34m=\u001b[0m \u001b[0mself\u001b[0m\u001b[0;34m.\u001b[0m\u001b[0m_original_iterator\u001b[0m \u001b[0;32mis\u001b[0m \u001b[0;32mnot\u001b[0m \u001b[0;32mNone\u001b[0m\u001b[0;34m\u001b[0m\u001b[0m\n\u001b[1;32m    985\u001b[0m \u001b[0;34m\u001b[0m\u001b[0m\n",
      "\u001b[0;32m/usr/local/lib/python3.5/dist-packages/sklearn/externals/joblib/parallel.py\u001b[0m in \u001b[0;36mdispatch_one_batch\u001b[0;34m(self, iterator)\u001b[0m\n\u001b[1;32m    823\u001b[0m                 \u001b[0;32mreturn\u001b[0m \u001b[0;32mFalse\u001b[0m\u001b[0;34m\u001b[0m\u001b[0m\n\u001b[1;32m    824\u001b[0m             \u001b[0;32melse\u001b[0m\u001b[0;34m:\u001b[0m\u001b[0;34m\u001b[0m\u001b[0m\n\u001b[0;32m--> 825\u001b[0;31m                 \u001b[0mself\u001b[0m\u001b[0;34m.\u001b[0m\u001b[0m_dispatch\u001b[0m\u001b[0;34m(\u001b[0m\u001b[0mtasks\u001b[0m\u001b[0;34m)\u001b[0m\u001b[0;34m\u001b[0m\u001b[0m\n\u001b[0m\u001b[1;32m    826\u001b[0m                 \u001b[0;32mreturn\u001b[0m \u001b[0;32mTrue\u001b[0m\u001b[0;34m\u001b[0m\u001b[0m\n\u001b[1;32m    827\u001b[0m \u001b[0;34m\u001b[0m\u001b[0m\n",
      "\u001b[0;32m/usr/local/lib/python3.5/dist-packages/sklearn/externals/joblib/parallel.py\u001b[0m in \u001b[0;36m_dispatch\u001b[0;34m(self, batch)\u001b[0m\n\u001b[1;32m    780\u001b[0m         \u001b[0;32mwith\u001b[0m \u001b[0mself\u001b[0m\u001b[0;34m.\u001b[0m\u001b[0m_lock\u001b[0m\u001b[0;34m:\u001b[0m\u001b[0;34m\u001b[0m\u001b[0m\n\u001b[1;32m    781\u001b[0m             \u001b[0mjob_idx\u001b[0m \u001b[0;34m=\u001b[0m \u001b[0mlen\u001b[0m\u001b[0;34m(\u001b[0m\u001b[0mself\u001b[0m\u001b[0;34m.\u001b[0m\u001b[0m_jobs\u001b[0m\u001b[0;34m)\u001b[0m\u001b[0;34m\u001b[0m\u001b[0m\n\u001b[0;32m--> 782\u001b[0;31m             \u001b[0mjob\u001b[0m \u001b[0;34m=\u001b[0m \u001b[0mself\u001b[0m\u001b[0;34m.\u001b[0m\u001b[0m_backend\u001b[0m\u001b[0;34m.\u001b[0m\u001b[0mapply_async\u001b[0m\u001b[0;34m(\u001b[0m\u001b[0mbatch\u001b[0m\u001b[0;34m,\u001b[0m \u001b[0mcallback\u001b[0m\u001b[0;34m=\u001b[0m\u001b[0mcb\u001b[0m\u001b[0;34m)\u001b[0m\u001b[0;34m\u001b[0m\u001b[0m\n\u001b[0m\u001b[1;32m    783\u001b[0m             \u001b[0;31m# A job can complete so quickly than its callback is\u001b[0m\u001b[0;34m\u001b[0m\u001b[0;34m\u001b[0m\u001b[0m\n\u001b[1;32m    784\u001b[0m             \u001b[0;31m# called before we get here, causing self._jobs to\u001b[0m\u001b[0;34m\u001b[0m\u001b[0;34m\u001b[0m\u001b[0m\n",
      "\u001b[0;32m/usr/local/lib/python3.5/dist-packages/sklearn/externals/joblib/_parallel_backends.py\u001b[0m in \u001b[0;36mapply_async\u001b[0;34m(self, func, callback)\u001b[0m\n\u001b[1;32m    180\u001b[0m     \u001b[0;32mdef\u001b[0m \u001b[0mapply_async\u001b[0m\u001b[0;34m(\u001b[0m\u001b[0mself\u001b[0m\u001b[0;34m,\u001b[0m \u001b[0mfunc\u001b[0m\u001b[0;34m,\u001b[0m \u001b[0mcallback\u001b[0m\u001b[0;34m=\u001b[0m\u001b[0;32mNone\u001b[0m\u001b[0;34m)\u001b[0m\u001b[0;34m:\u001b[0m\u001b[0;34m\u001b[0m\u001b[0m\n\u001b[1;32m    181\u001b[0m         \u001b[0;34m\"\"\"Schedule a func to be run\"\"\"\u001b[0m\u001b[0;34m\u001b[0m\u001b[0m\n\u001b[0;32m--> 182\u001b[0;31m         \u001b[0mresult\u001b[0m \u001b[0;34m=\u001b[0m \u001b[0mImmediateResult\u001b[0m\u001b[0;34m(\u001b[0m\u001b[0mfunc\u001b[0m\u001b[0;34m)\u001b[0m\u001b[0;34m\u001b[0m\u001b[0m\n\u001b[0m\u001b[1;32m    183\u001b[0m         \u001b[0;32mif\u001b[0m \u001b[0mcallback\u001b[0m\u001b[0;34m:\u001b[0m\u001b[0;34m\u001b[0m\u001b[0m\n\u001b[1;32m    184\u001b[0m             \u001b[0mcallback\u001b[0m\u001b[0;34m(\u001b[0m\u001b[0mresult\u001b[0m\u001b[0;34m)\u001b[0m\u001b[0;34m\u001b[0m\u001b[0m\n",
      "\u001b[0;32m/usr/local/lib/python3.5/dist-packages/sklearn/externals/joblib/_parallel_backends.py\u001b[0m in \u001b[0;36m__init__\u001b[0;34m(self, batch)\u001b[0m\n\u001b[1;32m    543\u001b[0m         \u001b[0;31m# Don't delay the application, to avoid keeping the input\u001b[0m\u001b[0;34m\u001b[0m\u001b[0;34m\u001b[0m\u001b[0m\n\u001b[1;32m    544\u001b[0m         \u001b[0;31m# arguments in memory\u001b[0m\u001b[0;34m\u001b[0m\u001b[0;34m\u001b[0m\u001b[0m\n\u001b[0;32m--> 545\u001b[0;31m         \u001b[0mself\u001b[0m\u001b[0;34m.\u001b[0m\u001b[0mresults\u001b[0m \u001b[0;34m=\u001b[0m \u001b[0mbatch\u001b[0m\u001b[0;34m(\u001b[0m\u001b[0;34m)\u001b[0m\u001b[0;34m\u001b[0m\u001b[0m\n\u001b[0m\u001b[1;32m    546\u001b[0m \u001b[0;34m\u001b[0m\u001b[0m\n\u001b[1;32m    547\u001b[0m     \u001b[0;32mdef\u001b[0m \u001b[0mget\u001b[0m\u001b[0;34m(\u001b[0m\u001b[0mself\u001b[0m\u001b[0;34m)\u001b[0m\u001b[0;34m:\u001b[0m\u001b[0;34m\u001b[0m\u001b[0m\n",
      "\u001b[0;32m/usr/local/lib/python3.5/dist-packages/sklearn/externals/joblib/parallel.py\u001b[0m in \u001b[0;36m__call__\u001b[0;34m(self)\u001b[0m\n\u001b[1;32m    259\u001b[0m         \u001b[0;32mwith\u001b[0m \u001b[0mparallel_backend\u001b[0m\u001b[0;34m(\u001b[0m\u001b[0mself\u001b[0m\u001b[0;34m.\u001b[0m\u001b[0m_backend\u001b[0m\u001b[0;34m)\u001b[0m\u001b[0;34m:\u001b[0m\u001b[0;34m\u001b[0m\u001b[0m\n\u001b[1;32m    260\u001b[0m             return [func(*args, **kwargs)\n\u001b[0;32m--> 261\u001b[0;31m                     for func, args, kwargs in self.items]\n\u001b[0m\u001b[1;32m    262\u001b[0m \u001b[0;34m\u001b[0m\u001b[0m\n\u001b[1;32m    263\u001b[0m     \u001b[0;32mdef\u001b[0m \u001b[0m__len__\u001b[0m\u001b[0;34m(\u001b[0m\u001b[0mself\u001b[0m\u001b[0;34m)\u001b[0m\u001b[0;34m:\u001b[0m\u001b[0;34m\u001b[0m\u001b[0m\n",
      "\u001b[0;32m/usr/local/lib/python3.5/dist-packages/sklearn/externals/joblib/parallel.py\u001b[0m in \u001b[0;36m<listcomp>\u001b[0;34m(.0)\u001b[0m\n\u001b[1;32m    259\u001b[0m         \u001b[0;32mwith\u001b[0m \u001b[0mparallel_backend\u001b[0m\u001b[0;34m(\u001b[0m\u001b[0mself\u001b[0m\u001b[0;34m.\u001b[0m\u001b[0m_backend\u001b[0m\u001b[0;34m)\u001b[0m\u001b[0;34m:\u001b[0m\u001b[0;34m\u001b[0m\u001b[0m\n\u001b[1;32m    260\u001b[0m             return [func(*args, **kwargs)\n\u001b[0;32m--> 261\u001b[0;31m                     for func, args, kwargs in self.items]\n\u001b[0m\u001b[1;32m    262\u001b[0m \u001b[0;34m\u001b[0m\u001b[0m\n\u001b[1;32m    263\u001b[0m     \u001b[0;32mdef\u001b[0m \u001b[0m__len__\u001b[0m\u001b[0;34m(\u001b[0m\u001b[0mself\u001b[0m\u001b[0;34m)\u001b[0m\u001b[0;34m:\u001b[0m\u001b[0;34m\u001b[0m\u001b[0m\n",
      "\u001b[0;32m/usr/local/lib/python3.5/dist-packages/sklearn/model_selection/_validation.py\u001b[0m in \u001b[0;36m_fit_and_score\u001b[0;34m(estimator, X, y, scorer, train, test, verbose, parameters, fit_params, return_train_score, return_parameters, return_n_test_samples, return_times, return_estimator, error_score)\u001b[0m\n\u001b[1;32m    526\u001b[0m             \u001b[0mestimator\u001b[0m\u001b[0;34m.\u001b[0m\u001b[0mfit\u001b[0m\u001b[0;34m(\u001b[0m\u001b[0mX_train\u001b[0m\u001b[0;34m,\u001b[0m \u001b[0;34m**\u001b[0m\u001b[0mfit_params\u001b[0m\u001b[0;34m)\u001b[0m\u001b[0;34m\u001b[0m\u001b[0m\n\u001b[1;32m    527\u001b[0m         \u001b[0;32melse\u001b[0m\u001b[0;34m:\u001b[0m\u001b[0;34m\u001b[0m\u001b[0m\n\u001b[0;32m--> 528\u001b[0;31m             \u001b[0mestimator\u001b[0m\u001b[0;34m.\u001b[0m\u001b[0mfit\u001b[0m\u001b[0;34m(\u001b[0m\u001b[0mX_train\u001b[0m\u001b[0;34m,\u001b[0m \u001b[0my_train\u001b[0m\u001b[0;34m,\u001b[0m \u001b[0;34m**\u001b[0m\u001b[0mfit_params\u001b[0m\u001b[0;34m)\u001b[0m\u001b[0;34m\u001b[0m\u001b[0m\n\u001b[0m\u001b[1;32m    529\u001b[0m \u001b[0;34m\u001b[0m\u001b[0m\n\u001b[1;32m    530\u001b[0m     \u001b[0;32mexcept\u001b[0m \u001b[0mException\u001b[0m \u001b[0;32mas\u001b[0m \u001b[0me\u001b[0m\u001b[0;34m:\u001b[0m\u001b[0;34m\u001b[0m\u001b[0m\n",
      "\u001b[0;32m/usr/local/lib/python3.5/dist-packages/sklearn/naive_bayes.py\u001b[0m in \u001b[0;36mfit\u001b[0;34m(self, X, y, sample_weight)\u001b[0m\n\u001b[1;32m    188\u001b[0m         \u001b[0mself\u001b[0m \u001b[0;34m:\u001b[0m \u001b[0mobject\u001b[0m\u001b[0;34m\u001b[0m\u001b[0m\n\u001b[1;32m    189\u001b[0m         \"\"\"\n\u001b[0;32m--> 190\u001b[0;31m         \u001b[0mX\u001b[0m\u001b[0;34m,\u001b[0m \u001b[0my\u001b[0m \u001b[0;34m=\u001b[0m \u001b[0mcheck_X_y\u001b[0m\u001b[0;34m(\u001b[0m\u001b[0mX\u001b[0m\u001b[0;34m,\u001b[0m \u001b[0my\u001b[0m\u001b[0;34m)\u001b[0m\u001b[0;34m\u001b[0m\u001b[0m\n\u001b[0m\u001b[1;32m    191\u001b[0m         return self._partial_fit(X, y, np.unique(y), _refit=True,\n\u001b[1;32m    192\u001b[0m                                  sample_weight=sample_weight)\n",
      "\u001b[0;32m/usr/local/lib/python3.5/dist-packages/sklearn/utils/validation.py\u001b[0m in \u001b[0;36mcheck_X_y\u001b[0;34m(X, y, accept_sparse, accept_large_sparse, dtype, order, copy, force_all_finite, ensure_2d, allow_nd, multi_output, ensure_min_samples, ensure_min_features, y_numeric, warn_on_dtype, estimator)\u001b[0m\n\u001b[1;32m    745\u001b[0m                     \u001b[0mensure_min_features\u001b[0m\u001b[0;34m=\u001b[0m\u001b[0mensure_min_features\u001b[0m\u001b[0;34m,\u001b[0m\u001b[0;34m\u001b[0m\u001b[0m\n\u001b[1;32m    746\u001b[0m                     \u001b[0mwarn_on_dtype\u001b[0m\u001b[0;34m=\u001b[0m\u001b[0mwarn_on_dtype\u001b[0m\u001b[0;34m,\u001b[0m\u001b[0;34m\u001b[0m\u001b[0m\n\u001b[0;32m--> 747\u001b[0;31m                     estimator=estimator)\n\u001b[0m\u001b[1;32m    748\u001b[0m     \u001b[0;32mif\u001b[0m \u001b[0mmulti_output\u001b[0m\u001b[0;34m:\u001b[0m\u001b[0;34m\u001b[0m\u001b[0m\n\u001b[1;32m    749\u001b[0m         y = check_array(y, 'csr', force_all_finite=True, ensure_2d=False,\n",
      "\u001b[0;32m/usr/local/lib/python3.5/dist-packages/sklearn/utils/validation.py\u001b[0m in \u001b[0;36mcheck_array\u001b[0;34m(array, accept_sparse, accept_large_sparse, dtype, order, copy, force_all_finite, ensure_2d, allow_nd, ensure_min_samples, ensure_min_features, warn_on_dtype, estimator)\u001b[0m\n\u001b[1;32m    510\u001b[0m                                       \u001b[0mdtype\u001b[0m\u001b[0;34m=\u001b[0m\u001b[0mdtype\u001b[0m\u001b[0;34m,\u001b[0m \u001b[0mcopy\u001b[0m\u001b[0;34m=\u001b[0m\u001b[0mcopy\u001b[0m\u001b[0;34m,\u001b[0m\u001b[0;34m\u001b[0m\u001b[0m\n\u001b[1;32m    511\u001b[0m                                       \u001b[0mforce_all_finite\u001b[0m\u001b[0;34m=\u001b[0m\u001b[0mforce_all_finite\u001b[0m\u001b[0;34m,\u001b[0m\u001b[0;34m\u001b[0m\u001b[0m\n\u001b[0;32m--> 512\u001b[0;31m                                       accept_large_sparse=accept_large_sparse)\n\u001b[0m\u001b[1;32m    513\u001b[0m     \u001b[0;32melse\u001b[0m\u001b[0;34m:\u001b[0m\u001b[0;34m\u001b[0m\u001b[0m\n\u001b[1;32m    514\u001b[0m         \u001b[0;31m# If np.array(..) gives ComplexWarning, then we convert the warning\u001b[0m\u001b[0;34m\u001b[0m\u001b[0;34m\u001b[0m\u001b[0m\n",
      "\u001b[0;32m/usr/local/lib/python3.5/dist-packages/sklearn/utils/validation.py\u001b[0m in \u001b[0;36m_ensure_sparse_format\u001b[0;34m(spmatrix, accept_sparse, dtype, copy, force_all_finite, accept_large_sparse)\u001b[0m\n\u001b[1;32m    311\u001b[0m \u001b[0;34m\u001b[0m\u001b[0m\n\u001b[1;32m    312\u001b[0m     \u001b[0;32mif\u001b[0m \u001b[0maccept_sparse\u001b[0m \u001b[0;32mis\u001b[0m \u001b[0;32mFalse\u001b[0m\u001b[0;34m:\u001b[0m\u001b[0;34m\u001b[0m\u001b[0m\n\u001b[0;32m--> 313\u001b[0;31m         raise TypeError('A sparse matrix was passed, but dense '\n\u001b[0m\u001b[1;32m    314\u001b[0m                         \u001b[0;34m'data is required. Use X.toarray() to '\u001b[0m\u001b[0;34m\u001b[0m\u001b[0m\n\u001b[1;32m    315\u001b[0m                         'convert to a dense numpy array.')\n",
      "\u001b[0;31mTypeError\u001b[0m: A sparse matrix was passed, but dense data is required. Use X.toarray() to convert to a dense numpy array."
     ]
    }
   ],
   "source": [
    "from sklearn.feature_extraction.text import CountVectorizer, TfidfTransformer\n",
    "\n",
    "data3 = pd.read_csv('./SMSSpamCollection.data', sep='\\t', header = None)\n",
    "arraydata = data3.values\n",
    "\n",
    "# Variables et labels\n",
    "Xtxt = arraydata[:,1]\n",
    "Ytxt = arraydata[:,0]\n",
    "\n",
    "# Conversion du label\n",
    "Ytxt[Ytxt == 'ham'] = 0\n",
    "Ytxt[Ytxt == 'spam'] = 1\n",
    "Ytxt = Ytxt.astype(int)\n",
    "\n",
    "# On vectorise les sms\n",
    "vectorizer = CountVectorizer()\n",
    "Xvectorized = vectorizer.fit_transform(Xtxt)\n",
    "run_classifiers(X=Xvectorized, Y=Ytxt, clfs=clfs)"
   ]
  },
  {
   "cell_type": "markdown",
   "metadata": {},
   "source": [
    "On constate que juste en vectorisant les sms, les résulats de classification sont très bon. Les techniques ensemblistes restent les meilleurs, principalement avec le modèle de Random Forest qui donne une AUC de 0.992 et une précision de 0.998. On remarque aussi que le classifieur Bayésien ne fonctionne pas avec les sparses matrix."
   ]
  },
  {
   "cell_type": "code",
   "execution_count": 151,
   "metadata": {},
   "outputs": [
    {
     "name": "stdout",
     "output_type": "stream",
     "text": [
      "\n",
      "\n",
      "======= MLP =======\n",
      "\n",
      "Temps d'exécution d'un cross val : 11.159014463424683 secondes\n",
      "Accuracy for MLP is: 0.984 +/- 0.004\n",
      "AUC for MLP is: 0.989 +/- 0.005\n",
      "precision for MLP is: 0.972 +/- 0.018\n",
      "\n",
      "\n",
      "======= ID3 =======\n",
      "\n",
      "Temps d'exécution d'un cross val : 4.998236179351807 secondes\n",
      "Accuracy for ID3 is: 0.968 +/- 0.003\n",
      "AUC for ID3 is: 0.918 +/- 0.012\n",
      "precision for ID3 is: 0.901 +/- 0.005\n",
      "\n",
      "\n",
      "======= ADABOOST =======\n",
      "\n",
      "Temps d'exécution d'un cross val : 24.2587628364563 secondes\n",
      "Accuracy for ADABOOST is: 0.972 +/- 0.002\n",
      "AUC for ADABOOST is: 0.972 +/- 0.008\n",
      "precision for ADABOOST is: 0.930 +/- 0.012\n",
      "\n",
      "\n",
      "======= BAGGING =======\n",
      "\n",
      "Temps d'exécution d'un cross val : 89.84316778182983 secondes\n",
      "Accuracy for BAGGING is: 0.975 +/- 0.003\n",
      "AUC for BAGGING is: 0.982 +/- 0.009\n",
      "precision for BAGGING is: 0.945 +/- 0.012\n",
      "\n",
      "\n",
      "======= KPPV =======\n",
      "\n",
      "Temps d'exécution d'un cross val : 1.5532004833221436 secondes\n",
      "Accuracy for KPPV is: 0.932 +/- 0.032\n",
      "AUC for KPPV is: 0.968 +/- 0.012\n",
      "precision for KPPV is: 0.996 +/- 0.005\n",
      "\n",
      "\n",
      "======= RF =======\n",
      "\n",
      "Temps d'exécution d'un cross val : 18.36499047279358 secondes\n",
      "Accuracy for RF is: 0.975 +/- 0.004\n",
      "AUC for RF is: 0.992 +/- 0.004\n",
      "precision for RF is: 0.998 +/- 0.003\n",
      "\n",
      "\n",
      "======= CART =======\n",
      "\n",
      "Temps d'exécution d'un cross val : 3.7133629322052 secondes\n",
      "Accuracy for CART is: 0.968 +/- 0.003\n",
      "AUC for CART is: 0.925 +/- 0.009\n",
      "precision for CART is: 0.892 +/- 0.017\n",
      "\n",
      "\n",
      "======= NB =======\n"
     ]
    },
    {
     "ename": "TypeError",
     "evalue": "A sparse matrix was passed, but dense data is required. Use X.toarray() to convert to a dense numpy array.",
     "output_type": "error",
     "traceback": [
      "\u001b[0;31m---------------------------------------------------------------------------\u001b[0m",
      "\u001b[0;31mTypeError\u001b[0m                                 Traceback (most recent call last)",
      "\u001b[0;32m<ipython-input-151-8ee0242d5e56>\u001b[0m in \u001b[0;36m<module>\u001b[0;34m()\u001b[0m\n\u001b[1;32m     16\u001b[0m \u001b[0;34m\u001b[0m\u001b[0m\n\u001b[1;32m     17\u001b[0m \u001b[0mXtfidf\u001b[0m \u001b[0;34m=\u001b[0m \u001b[0mTfidfTransformer\u001b[0m\u001b[0;34m(\u001b[0m\u001b[0msmooth_idf\u001b[0m\u001b[0;34m=\u001b[0m\u001b[0;32mFalse\u001b[0m\u001b[0;34m)\u001b[0m\u001b[0;34m.\u001b[0m\u001b[0mfit_transform\u001b[0m\u001b[0;34m(\u001b[0m\u001b[0mXvectorized\u001b[0m\u001b[0;34m)\u001b[0m\u001b[0;34m\u001b[0m\u001b[0m\n\u001b[0;32m---> 18\u001b[0;31m \u001b[0mrun_classifiers\u001b[0m\u001b[0;34m(\u001b[0m\u001b[0mX\u001b[0m\u001b[0;34m=\u001b[0m\u001b[0mXtfidf\u001b[0m\u001b[0;34m,\u001b[0m \u001b[0mY\u001b[0m\u001b[0;34m=\u001b[0m\u001b[0mYtxt\u001b[0m\u001b[0;34m,\u001b[0m \u001b[0mclfs\u001b[0m\u001b[0;34m=\u001b[0m\u001b[0mclfs\u001b[0m\u001b[0;34m)\u001b[0m\u001b[0;34m\u001b[0m\u001b[0m\n\u001b[0m",
      "\u001b[0;32m<ipython-input-151-8ee0242d5e56>\u001b[0m in \u001b[0;36mrun_classifiers\u001b[0;34m(clfs, X, Y)\u001b[0m\n\u001b[1;32m      6\u001b[0m         \u001b[0mprint\u001b[0m\u001b[0;34m(\u001b[0m\u001b[0;34m\"\\n\\n======= {0} =======\"\u001b[0m\u001b[0;34m.\u001b[0m\u001b[0mformat\u001b[0m\u001b[0;34m(\u001b[0m\u001b[0mi\u001b[0m\u001b[0;34m)\u001b[0m\u001b[0;34m)\u001b[0m\u001b[0;34m\u001b[0m\u001b[0m\n\u001b[1;32m      7\u001b[0m         \u001b[0mstart_time\u001b[0m \u001b[0;34m=\u001b[0m \u001b[0mtime\u001b[0m\u001b[0;34m.\u001b[0m\u001b[0mtime\u001b[0m\u001b[0;34m(\u001b[0m\u001b[0;34m)\u001b[0m\u001b[0;34m\u001b[0m\u001b[0m\n\u001b[0;32m----> 8\u001b[0;31m         \u001b[0mcv_acc\u001b[0m \u001b[0;34m=\u001b[0m \u001b[0mcross_val_score\u001b[0m\u001b[0;34m(\u001b[0m\u001b[0mclf\u001b[0m\u001b[0;34m,\u001b[0m \u001b[0mX\u001b[0m\u001b[0;34m,\u001b[0m \u001b[0mY\u001b[0m\u001b[0;34m,\u001b[0m \u001b[0mcv\u001b[0m\u001b[0;34m=\u001b[0m\u001b[0mkf\u001b[0m\u001b[0;34m)\u001b[0m\u001b[0;34m\u001b[0m\u001b[0m\n\u001b[0m\u001b[1;32m      9\u001b[0m         \u001b[0mprint\u001b[0m\u001b[0;34m(\u001b[0m\u001b[0;34m'\\nTemps d\\'exécution d\\'un cross val : %s secondes'\u001b[0m\u001b[0;34m%\u001b[0m\u001b[0;34m(\u001b[0m\u001b[0mtime\u001b[0m\u001b[0;34m.\u001b[0m\u001b[0mtime\u001b[0m\u001b[0;34m(\u001b[0m\u001b[0;34m)\u001b[0m \u001b[0;34m-\u001b[0m \u001b[0mstart_time\u001b[0m\u001b[0;34m)\u001b[0m\u001b[0;34m)\u001b[0m\u001b[0;34m\u001b[0m\u001b[0m\n\u001b[1;32m     10\u001b[0m         \u001b[0mcv_auc\u001b[0m \u001b[0;34m=\u001b[0m \u001b[0mcross_val_score\u001b[0m\u001b[0;34m(\u001b[0m\u001b[0mclf\u001b[0m\u001b[0;34m,\u001b[0m \u001b[0mX\u001b[0m\u001b[0;34m,\u001b[0m \u001b[0mY\u001b[0m\u001b[0;34m,\u001b[0m \u001b[0mcv\u001b[0m\u001b[0;34m=\u001b[0m\u001b[0mkf\u001b[0m\u001b[0;34m,\u001b[0m \u001b[0mscoring\u001b[0m\u001b[0;34m=\u001b[0m\u001b[0;34m'roc_auc'\u001b[0m\u001b[0;34m)\u001b[0m\u001b[0;34m\u001b[0m\u001b[0m\n",
      "\u001b[0;32m/usr/local/lib/python3.5/dist-packages/sklearn/model_selection/_validation.py\u001b[0m in \u001b[0;36mcross_val_score\u001b[0;34m(estimator, X, y, groups, scoring, cv, n_jobs, verbose, fit_params, pre_dispatch, error_score)\u001b[0m\n\u001b[1;32m    400\u001b[0m                                 \u001b[0mfit_params\u001b[0m\u001b[0;34m=\u001b[0m\u001b[0mfit_params\u001b[0m\u001b[0;34m,\u001b[0m\u001b[0;34m\u001b[0m\u001b[0m\n\u001b[1;32m    401\u001b[0m                                 \u001b[0mpre_dispatch\u001b[0m\u001b[0;34m=\u001b[0m\u001b[0mpre_dispatch\u001b[0m\u001b[0;34m,\u001b[0m\u001b[0;34m\u001b[0m\u001b[0m\n\u001b[0;32m--> 402\u001b[0;31m                                 error_score=error_score)\n\u001b[0m\u001b[1;32m    403\u001b[0m     \u001b[0;32mreturn\u001b[0m \u001b[0mcv_results\u001b[0m\u001b[0;34m[\u001b[0m\u001b[0;34m'test_score'\u001b[0m\u001b[0;34m]\u001b[0m\u001b[0;34m\u001b[0m\u001b[0m\n\u001b[1;32m    404\u001b[0m \u001b[0;34m\u001b[0m\u001b[0m\n",
      "\u001b[0;32m/usr/local/lib/python3.5/dist-packages/sklearn/model_selection/_validation.py\u001b[0m in \u001b[0;36mcross_validate\u001b[0;34m(estimator, X, y, groups, scoring, cv, n_jobs, verbose, fit_params, pre_dispatch, return_train_score, return_estimator, error_score)\u001b[0m\n\u001b[1;32m    238\u001b[0m             \u001b[0mreturn_times\u001b[0m\u001b[0;34m=\u001b[0m\u001b[0;32mTrue\u001b[0m\u001b[0;34m,\u001b[0m \u001b[0mreturn_estimator\u001b[0m\u001b[0;34m=\u001b[0m\u001b[0mreturn_estimator\u001b[0m\u001b[0;34m,\u001b[0m\u001b[0;34m\u001b[0m\u001b[0m\n\u001b[1;32m    239\u001b[0m             error_score=error_score)\n\u001b[0;32m--> 240\u001b[0;31m         for train, test in cv.split(X, y, groups))\n\u001b[0m\u001b[1;32m    241\u001b[0m \u001b[0;34m\u001b[0m\u001b[0m\n\u001b[1;32m    242\u001b[0m     \u001b[0mzipped_scores\u001b[0m \u001b[0;34m=\u001b[0m \u001b[0mlist\u001b[0m\u001b[0;34m(\u001b[0m\u001b[0mzip\u001b[0m\u001b[0;34m(\u001b[0m\u001b[0;34m*\u001b[0m\u001b[0mscores\u001b[0m\u001b[0;34m)\u001b[0m\u001b[0;34m)\u001b[0m\u001b[0;34m\u001b[0m\u001b[0m\n",
      "\u001b[0;32m/usr/local/lib/python3.5/dist-packages/sklearn/externals/joblib/parallel.py\u001b[0m in \u001b[0;36m__call__\u001b[0;34m(self, iterable)\u001b[0m\n\u001b[1;32m    981\u001b[0m             \u001b[0;31m# remaining jobs.\u001b[0m\u001b[0;34m\u001b[0m\u001b[0;34m\u001b[0m\u001b[0m\n\u001b[1;32m    982\u001b[0m             \u001b[0mself\u001b[0m\u001b[0;34m.\u001b[0m\u001b[0m_iterating\u001b[0m \u001b[0;34m=\u001b[0m \u001b[0;32mFalse\u001b[0m\u001b[0;34m\u001b[0m\u001b[0m\n\u001b[0;32m--> 983\u001b[0;31m             \u001b[0;32mif\u001b[0m \u001b[0mself\u001b[0m\u001b[0;34m.\u001b[0m\u001b[0mdispatch_one_batch\u001b[0m\u001b[0;34m(\u001b[0m\u001b[0miterator\u001b[0m\u001b[0;34m)\u001b[0m\u001b[0;34m:\u001b[0m\u001b[0;34m\u001b[0m\u001b[0m\n\u001b[0m\u001b[1;32m    984\u001b[0m                 \u001b[0mself\u001b[0m\u001b[0;34m.\u001b[0m\u001b[0m_iterating\u001b[0m \u001b[0;34m=\u001b[0m \u001b[0mself\u001b[0m\u001b[0;34m.\u001b[0m\u001b[0m_original_iterator\u001b[0m \u001b[0;32mis\u001b[0m \u001b[0;32mnot\u001b[0m \u001b[0;32mNone\u001b[0m\u001b[0;34m\u001b[0m\u001b[0m\n\u001b[1;32m    985\u001b[0m \u001b[0;34m\u001b[0m\u001b[0m\n",
      "\u001b[0;32m/usr/local/lib/python3.5/dist-packages/sklearn/externals/joblib/parallel.py\u001b[0m in \u001b[0;36mdispatch_one_batch\u001b[0;34m(self, iterator)\u001b[0m\n\u001b[1;32m    823\u001b[0m                 \u001b[0;32mreturn\u001b[0m \u001b[0;32mFalse\u001b[0m\u001b[0;34m\u001b[0m\u001b[0m\n\u001b[1;32m    824\u001b[0m             \u001b[0;32melse\u001b[0m\u001b[0;34m:\u001b[0m\u001b[0;34m\u001b[0m\u001b[0m\n\u001b[0;32m--> 825\u001b[0;31m                 \u001b[0mself\u001b[0m\u001b[0;34m.\u001b[0m\u001b[0m_dispatch\u001b[0m\u001b[0;34m(\u001b[0m\u001b[0mtasks\u001b[0m\u001b[0;34m)\u001b[0m\u001b[0;34m\u001b[0m\u001b[0m\n\u001b[0m\u001b[1;32m    826\u001b[0m                 \u001b[0;32mreturn\u001b[0m \u001b[0;32mTrue\u001b[0m\u001b[0;34m\u001b[0m\u001b[0m\n\u001b[1;32m    827\u001b[0m \u001b[0;34m\u001b[0m\u001b[0m\n",
      "\u001b[0;32m/usr/local/lib/python3.5/dist-packages/sklearn/externals/joblib/parallel.py\u001b[0m in \u001b[0;36m_dispatch\u001b[0;34m(self, batch)\u001b[0m\n\u001b[1;32m    780\u001b[0m         \u001b[0;32mwith\u001b[0m \u001b[0mself\u001b[0m\u001b[0;34m.\u001b[0m\u001b[0m_lock\u001b[0m\u001b[0;34m:\u001b[0m\u001b[0;34m\u001b[0m\u001b[0m\n\u001b[1;32m    781\u001b[0m             \u001b[0mjob_idx\u001b[0m \u001b[0;34m=\u001b[0m \u001b[0mlen\u001b[0m\u001b[0;34m(\u001b[0m\u001b[0mself\u001b[0m\u001b[0;34m.\u001b[0m\u001b[0m_jobs\u001b[0m\u001b[0;34m)\u001b[0m\u001b[0;34m\u001b[0m\u001b[0m\n\u001b[0;32m--> 782\u001b[0;31m             \u001b[0mjob\u001b[0m \u001b[0;34m=\u001b[0m \u001b[0mself\u001b[0m\u001b[0;34m.\u001b[0m\u001b[0m_backend\u001b[0m\u001b[0;34m.\u001b[0m\u001b[0mapply_async\u001b[0m\u001b[0;34m(\u001b[0m\u001b[0mbatch\u001b[0m\u001b[0;34m,\u001b[0m \u001b[0mcallback\u001b[0m\u001b[0;34m=\u001b[0m\u001b[0mcb\u001b[0m\u001b[0;34m)\u001b[0m\u001b[0;34m\u001b[0m\u001b[0m\n\u001b[0m\u001b[1;32m    783\u001b[0m             \u001b[0;31m# A job can complete so quickly than its callback is\u001b[0m\u001b[0;34m\u001b[0m\u001b[0;34m\u001b[0m\u001b[0m\n\u001b[1;32m    784\u001b[0m             \u001b[0;31m# called before we get here, causing self._jobs to\u001b[0m\u001b[0;34m\u001b[0m\u001b[0;34m\u001b[0m\u001b[0m\n",
      "\u001b[0;32m/usr/local/lib/python3.5/dist-packages/sklearn/externals/joblib/_parallel_backends.py\u001b[0m in \u001b[0;36mapply_async\u001b[0;34m(self, func, callback)\u001b[0m\n\u001b[1;32m    180\u001b[0m     \u001b[0;32mdef\u001b[0m \u001b[0mapply_async\u001b[0m\u001b[0;34m(\u001b[0m\u001b[0mself\u001b[0m\u001b[0;34m,\u001b[0m \u001b[0mfunc\u001b[0m\u001b[0;34m,\u001b[0m \u001b[0mcallback\u001b[0m\u001b[0;34m=\u001b[0m\u001b[0;32mNone\u001b[0m\u001b[0;34m)\u001b[0m\u001b[0;34m:\u001b[0m\u001b[0;34m\u001b[0m\u001b[0m\n\u001b[1;32m    181\u001b[0m         \u001b[0;34m\"\"\"Schedule a func to be run\"\"\"\u001b[0m\u001b[0;34m\u001b[0m\u001b[0m\n\u001b[0;32m--> 182\u001b[0;31m         \u001b[0mresult\u001b[0m \u001b[0;34m=\u001b[0m \u001b[0mImmediateResult\u001b[0m\u001b[0;34m(\u001b[0m\u001b[0mfunc\u001b[0m\u001b[0;34m)\u001b[0m\u001b[0;34m\u001b[0m\u001b[0m\n\u001b[0m\u001b[1;32m    183\u001b[0m         \u001b[0;32mif\u001b[0m \u001b[0mcallback\u001b[0m\u001b[0;34m:\u001b[0m\u001b[0;34m\u001b[0m\u001b[0m\n\u001b[1;32m    184\u001b[0m             \u001b[0mcallback\u001b[0m\u001b[0;34m(\u001b[0m\u001b[0mresult\u001b[0m\u001b[0;34m)\u001b[0m\u001b[0;34m\u001b[0m\u001b[0m\n",
      "\u001b[0;32m/usr/local/lib/python3.5/dist-packages/sklearn/externals/joblib/_parallel_backends.py\u001b[0m in \u001b[0;36m__init__\u001b[0;34m(self, batch)\u001b[0m\n\u001b[1;32m    543\u001b[0m         \u001b[0;31m# Don't delay the application, to avoid keeping the input\u001b[0m\u001b[0;34m\u001b[0m\u001b[0;34m\u001b[0m\u001b[0m\n\u001b[1;32m    544\u001b[0m         \u001b[0;31m# arguments in memory\u001b[0m\u001b[0;34m\u001b[0m\u001b[0;34m\u001b[0m\u001b[0m\n\u001b[0;32m--> 545\u001b[0;31m         \u001b[0mself\u001b[0m\u001b[0;34m.\u001b[0m\u001b[0mresults\u001b[0m \u001b[0;34m=\u001b[0m \u001b[0mbatch\u001b[0m\u001b[0;34m(\u001b[0m\u001b[0;34m)\u001b[0m\u001b[0;34m\u001b[0m\u001b[0m\n\u001b[0m\u001b[1;32m    546\u001b[0m \u001b[0;34m\u001b[0m\u001b[0m\n\u001b[1;32m    547\u001b[0m     \u001b[0;32mdef\u001b[0m \u001b[0mget\u001b[0m\u001b[0;34m(\u001b[0m\u001b[0mself\u001b[0m\u001b[0;34m)\u001b[0m\u001b[0;34m:\u001b[0m\u001b[0;34m\u001b[0m\u001b[0m\n",
      "\u001b[0;32m/usr/local/lib/python3.5/dist-packages/sklearn/externals/joblib/parallel.py\u001b[0m in \u001b[0;36m__call__\u001b[0;34m(self)\u001b[0m\n\u001b[1;32m    259\u001b[0m         \u001b[0;32mwith\u001b[0m \u001b[0mparallel_backend\u001b[0m\u001b[0;34m(\u001b[0m\u001b[0mself\u001b[0m\u001b[0;34m.\u001b[0m\u001b[0m_backend\u001b[0m\u001b[0;34m)\u001b[0m\u001b[0;34m:\u001b[0m\u001b[0;34m\u001b[0m\u001b[0m\n\u001b[1;32m    260\u001b[0m             return [func(*args, **kwargs)\n\u001b[0;32m--> 261\u001b[0;31m                     for func, args, kwargs in self.items]\n\u001b[0m\u001b[1;32m    262\u001b[0m \u001b[0;34m\u001b[0m\u001b[0m\n\u001b[1;32m    263\u001b[0m     \u001b[0;32mdef\u001b[0m \u001b[0m__len__\u001b[0m\u001b[0;34m(\u001b[0m\u001b[0mself\u001b[0m\u001b[0;34m)\u001b[0m\u001b[0;34m:\u001b[0m\u001b[0;34m\u001b[0m\u001b[0m\n",
      "\u001b[0;32m/usr/local/lib/python3.5/dist-packages/sklearn/externals/joblib/parallel.py\u001b[0m in \u001b[0;36m<listcomp>\u001b[0;34m(.0)\u001b[0m\n\u001b[1;32m    259\u001b[0m         \u001b[0;32mwith\u001b[0m \u001b[0mparallel_backend\u001b[0m\u001b[0;34m(\u001b[0m\u001b[0mself\u001b[0m\u001b[0;34m.\u001b[0m\u001b[0m_backend\u001b[0m\u001b[0;34m)\u001b[0m\u001b[0;34m:\u001b[0m\u001b[0;34m\u001b[0m\u001b[0m\n\u001b[1;32m    260\u001b[0m             return [func(*args, **kwargs)\n\u001b[0;32m--> 261\u001b[0;31m                     for func, args, kwargs in self.items]\n\u001b[0m\u001b[1;32m    262\u001b[0m \u001b[0;34m\u001b[0m\u001b[0m\n\u001b[1;32m    263\u001b[0m     \u001b[0;32mdef\u001b[0m \u001b[0m__len__\u001b[0m\u001b[0;34m(\u001b[0m\u001b[0mself\u001b[0m\u001b[0;34m)\u001b[0m\u001b[0;34m:\u001b[0m\u001b[0;34m\u001b[0m\u001b[0m\n",
      "\u001b[0;32m/usr/local/lib/python3.5/dist-packages/sklearn/model_selection/_validation.py\u001b[0m in \u001b[0;36m_fit_and_score\u001b[0;34m(estimator, X, y, scorer, train, test, verbose, parameters, fit_params, return_train_score, return_parameters, return_n_test_samples, return_times, return_estimator, error_score)\u001b[0m\n\u001b[1;32m    526\u001b[0m             \u001b[0mestimator\u001b[0m\u001b[0;34m.\u001b[0m\u001b[0mfit\u001b[0m\u001b[0;34m(\u001b[0m\u001b[0mX_train\u001b[0m\u001b[0;34m,\u001b[0m \u001b[0;34m**\u001b[0m\u001b[0mfit_params\u001b[0m\u001b[0;34m)\u001b[0m\u001b[0;34m\u001b[0m\u001b[0m\n\u001b[1;32m    527\u001b[0m         \u001b[0;32melse\u001b[0m\u001b[0;34m:\u001b[0m\u001b[0;34m\u001b[0m\u001b[0m\n\u001b[0;32m--> 528\u001b[0;31m             \u001b[0mestimator\u001b[0m\u001b[0;34m.\u001b[0m\u001b[0mfit\u001b[0m\u001b[0;34m(\u001b[0m\u001b[0mX_train\u001b[0m\u001b[0;34m,\u001b[0m \u001b[0my_train\u001b[0m\u001b[0;34m,\u001b[0m \u001b[0;34m**\u001b[0m\u001b[0mfit_params\u001b[0m\u001b[0;34m)\u001b[0m\u001b[0;34m\u001b[0m\u001b[0m\n\u001b[0m\u001b[1;32m    529\u001b[0m \u001b[0;34m\u001b[0m\u001b[0m\n\u001b[1;32m    530\u001b[0m     \u001b[0;32mexcept\u001b[0m \u001b[0mException\u001b[0m \u001b[0;32mas\u001b[0m \u001b[0me\u001b[0m\u001b[0;34m:\u001b[0m\u001b[0;34m\u001b[0m\u001b[0m\n",
      "\u001b[0;32m/usr/local/lib/python3.5/dist-packages/sklearn/naive_bayes.py\u001b[0m in \u001b[0;36mfit\u001b[0;34m(self, X, y, sample_weight)\u001b[0m\n\u001b[1;32m    188\u001b[0m         \u001b[0mself\u001b[0m \u001b[0;34m:\u001b[0m \u001b[0mobject\u001b[0m\u001b[0;34m\u001b[0m\u001b[0m\n\u001b[1;32m    189\u001b[0m         \"\"\"\n\u001b[0;32m--> 190\u001b[0;31m         \u001b[0mX\u001b[0m\u001b[0;34m,\u001b[0m \u001b[0my\u001b[0m \u001b[0;34m=\u001b[0m \u001b[0mcheck_X_y\u001b[0m\u001b[0;34m(\u001b[0m\u001b[0mX\u001b[0m\u001b[0;34m,\u001b[0m \u001b[0my\u001b[0m\u001b[0;34m)\u001b[0m\u001b[0;34m\u001b[0m\u001b[0m\n\u001b[0m\u001b[1;32m    191\u001b[0m         return self._partial_fit(X, y, np.unique(y), _refit=True,\n\u001b[1;32m    192\u001b[0m                                  sample_weight=sample_weight)\n",
      "\u001b[0;32m/usr/local/lib/python3.5/dist-packages/sklearn/utils/validation.py\u001b[0m in \u001b[0;36mcheck_X_y\u001b[0;34m(X, y, accept_sparse, accept_large_sparse, dtype, order, copy, force_all_finite, ensure_2d, allow_nd, multi_output, ensure_min_samples, ensure_min_features, y_numeric, warn_on_dtype, estimator)\u001b[0m\n\u001b[1;32m    745\u001b[0m                     \u001b[0mensure_min_features\u001b[0m\u001b[0;34m=\u001b[0m\u001b[0mensure_min_features\u001b[0m\u001b[0;34m,\u001b[0m\u001b[0;34m\u001b[0m\u001b[0m\n\u001b[1;32m    746\u001b[0m                     \u001b[0mwarn_on_dtype\u001b[0m\u001b[0;34m=\u001b[0m\u001b[0mwarn_on_dtype\u001b[0m\u001b[0;34m,\u001b[0m\u001b[0;34m\u001b[0m\u001b[0m\n\u001b[0;32m--> 747\u001b[0;31m                     estimator=estimator)\n\u001b[0m\u001b[1;32m    748\u001b[0m     \u001b[0;32mif\u001b[0m \u001b[0mmulti_output\u001b[0m\u001b[0;34m:\u001b[0m\u001b[0;34m\u001b[0m\u001b[0m\n\u001b[1;32m    749\u001b[0m         y = check_array(y, 'csr', force_all_finite=True, ensure_2d=False,\n",
      "\u001b[0;32m/usr/local/lib/python3.5/dist-packages/sklearn/utils/validation.py\u001b[0m in \u001b[0;36mcheck_array\u001b[0;34m(array, accept_sparse, accept_large_sparse, dtype, order, copy, force_all_finite, ensure_2d, allow_nd, ensure_min_samples, ensure_min_features, warn_on_dtype, estimator)\u001b[0m\n\u001b[1;32m    510\u001b[0m                                       \u001b[0mdtype\u001b[0m\u001b[0;34m=\u001b[0m\u001b[0mdtype\u001b[0m\u001b[0;34m,\u001b[0m \u001b[0mcopy\u001b[0m\u001b[0;34m=\u001b[0m\u001b[0mcopy\u001b[0m\u001b[0;34m,\u001b[0m\u001b[0;34m\u001b[0m\u001b[0m\n\u001b[1;32m    511\u001b[0m                                       \u001b[0mforce_all_finite\u001b[0m\u001b[0;34m=\u001b[0m\u001b[0mforce_all_finite\u001b[0m\u001b[0;34m,\u001b[0m\u001b[0;34m\u001b[0m\u001b[0m\n\u001b[0;32m--> 512\u001b[0;31m                                       accept_large_sparse=accept_large_sparse)\n\u001b[0m\u001b[1;32m    513\u001b[0m     \u001b[0;32melse\u001b[0m\u001b[0;34m:\u001b[0m\u001b[0;34m\u001b[0m\u001b[0m\n\u001b[1;32m    514\u001b[0m         \u001b[0;31m# If np.array(..) gives ComplexWarning, then we convert the warning\u001b[0m\u001b[0;34m\u001b[0m\u001b[0;34m\u001b[0m\u001b[0m\n",
      "\u001b[0;32m/usr/local/lib/python3.5/dist-packages/sklearn/utils/validation.py\u001b[0m in \u001b[0;36m_ensure_sparse_format\u001b[0;34m(spmatrix, accept_sparse, dtype, copy, force_all_finite, accept_large_sparse)\u001b[0m\n\u001b[1;32m    311\u001b[0m \u001b[0;34m\u001b[0m\u001b[0m\n\u001b[1;32m    312\u001b[0m     \u001b[0;32mif\u001b[0m \u001b[0maccept_sparse\u001b[0m \u001b[0;32mis\u001b[0m \u001b[0;32mFalse\u001b[0m\u001b[0;34m:\u001b[0m\u001b[0;34m\u001b[0m\u001b[0m\n\u001b[0;32m--> 313\u001b[0;31m         raise TypeError('A sparse matrix was passed, but dense '\n\u001b[0m\u001b[1;32m    314\u001b[0m                         \u001b[0;34m'data is required. Use X.toarray() to '\u001b[0m\u001b[0;34m\u001b[0m\u001b[0m\n\u001b[1;32m    315\u001b[0m                         'convert to a dense numpy array.')\n",
      "\u001b[0;31mTypeError\u001b[0m: A sparse matrix was passed, but dense data is required. Use X.toarray() to convert to a dense numpy array."
     ]
    }
   ],
   "source": [
    "# On fait une validation croisée a k = 5 pour augmenter la rapidité\n",
    "def run_classifiers(clfs,X,Y):\n",
    "    kf = KFold(n_splits=5, shuffle=True, random_state=1)\n",
    "    for i in clfs:\n",
    "        clf = clfs[i]\n",
    "        print(\"\\n\\n======= {0} =======\".format(i))\n",
    "        start_time = time.time()\n",
    "        cv_acc = cross_val_score(clf, X, Y, cv=kf)\n",
    "        print('\\nTemps d\\'exécution d\\'un cross val : %s secondes'%(time.time() - start_time))\n",
    "        cv_auc = cross_val_score(clf, X, Y, cv=kf, scoring='roc_auc')\n",
    "        cv_prec = cross_val_score(clf, X, Y, cv=kf, scoring='precision')\n",
    "        print(\"Accuracy for {0} is: {1:.3f} +/- {2:.3f}\".format(i, np.mean(cv_acc), np.std(cv_acc)))\n",
    "        print(\"AUC for {0} is: {1:.3f} +/- {2:.3f}\".format(i, cv_auc.mean(), cv_auc.std()))\n",
    "        print(\"precision for {0} is: {1:.3f} +/- {2:.3f}\".format(i, cv_prec.mean(), cv_prec.std()))\n",
    "\n",
    "\n",
    "Xtfidf = TfidfTransformer(smooth_idf=False).fit_transform(Xvectorized)\n",
    "run_classifiers(X=Xtfidf, Y=Ytxt, clfs=clfs)"
   ]
  },
  {
   "cell_type": "markdown",
   "metadata": {},
   "source": [
    "On constate qu'en rajoutant des poids donnant plus d'importance aux termes rares comparé aux termes souvent présents, les métriques évoluent differements selon les classifieurs. Par exemple cela a augmenté l'AUC du MLP de 0.984 à 0.989, mais a diminué sa précision de 0.980 à 0.972. Pour l'ADABOOST, cela a diminué l'AUC de 0.979 à 0.972 et la précision de 0.948 à 0.930."
   ]
  },
  {
   "cell_type": "code",
   "execution_count": 161,
   "metadata": {},
   "outputs": [
    {
     "name": "stdout",
     "output_type": "stream",
     "text": [
      "\n",
      "\n",
      "======= MLP =======\n",
      "\n",
      "Temps d'exécution d'un cross val : 16.58793544769287 secondes\n",
      "Accuracy for MLP is: 0.973 +/- 0.003\n",
      "AUC for MLP is: 0.987 +/- 0.005\n",
      "precision for MLP is: 0.890 +/- 0.018\n",
      "\n",
      "\n",
      "======= ID3 =======\n",
      "\n",
      "Temps d'exécution d'un cross val : 6.809550523757935 secondes\n",
      "Accuracy for ID3 is: 0.953 +/- 0.001\n",
      "AUC for ID3 is: 0.909 +/- 0.009\n",
      "precision for ID3 is: 0.812 +/- 0.025\n",
      "\n",
      "\n",
      "======= ADABOOST =======\n",
      "\n",
      "Temps d'exécution d'un cross val : 32.357205390930176 secondes\n",
      "Accuracy for ADABOOST is: 0.972 +/- 0.006\n",
      "AUC for ADABOOST is: 0.981 +/- 0.003\n",
      "precision for ADABOOST is: 0.920 +/- 0.032\n",
      "\n",
      "\n",
      "======= BAGGING =======\n",
      "\n",
      "Temps d'exécution d'un cross val : 168.47836565971375 secondes\n",
      "Accuracy for BAGGING is: 0.973 +/- 0.005\n",
      "AUC for BAGGING is: 0.973 +/- 0.006\n",
      "precision for BAGGING is: 0.960 +/- 0.010\n",
      "\n",
      "\n",
      "======= KPPV =======\n",
      "\n",
      "Temps d'exécution d'un cross val : 13.758306741714478 secondes\n",
      "Accuracy for KPPV is: 0.968 +/- 0.007\n",
      "AUC for KPPV is: 0.966 +/- 0.013\n",
      "precision for KPPV is: 0.963 +/- 0.030\n",
      "\n",
      "\n",
      "======= RF =======\n",
      "\n",
      "Temps d'exécution d'un cross val : 16.525413751602173 secondes\n",
      "Accuracy for RF is: 0.974 +/- 0.004\n",
      "AUC for RF is: 0.975 +/- 0.009\n",
      "precision for RF is: 0.986 +/- 0.009\n",
      "\n",
      "\n",
      "======= CART =======\n",
      "\n",
      "Temps d'exécution d'un cross val : 5.491069078445435 secondes\n",
      "Accuracy for CART is: 0.950 +/- 0.004\n",
      "AUC for CART is: 0.906 +/- 0.012\n",
      "precision for CART is: 0.798 +/- 0.036\n",
      "\n",
      "\n",
      "======= NB =======\n",
      "\n",
      "Temps d'exécution d'un cross val : 0.06766796112060547 secondes\n",
      "Accuracy for NB is: 0.826 +/- 0.008\n",
      "AUC for NB is: 0.928 +/- 0.011\n",
      "precision for NB is: 0.427 +/- 0.021\n"
     ]
    }
   ],
   "source": [
    "from sklearn.decomposition import TruncatedSVD\n",
    "\n",
    "svd = TruncatedSVD(n_components=100, n_iter=7, random_state=1)\n",
    "Xtrunc = svd.fit_transform(Xtfidf)\n",
    "\n",
    "run_classifiers(X=Xtrunc, Y=Ytxt, clfs=clfs)"
   ]
  },
  {
   "cell_type": "markdown",
   "metadata": {},
   "source": [
    "On constate que passer des sparses matrix à un array réduit par indexation sémantique diminue la qualité de la classification. Par exemple, l'AUC de la random forest passe de 0.992 à 0.975. Cela doit venir du parametre n_components qui indique le nombre de dimensions à utiliser. On va essayer d'augmenter ce paramètre sur les randoms forests et un classifieur Bayésien."
   ]
  },
  {
   "cell_type": "code",
   "execution_count": 169,
   "metadata": {},
   "outputs": [
    {
     "name": "stdout",
     "output_type": "stream",
     "text": [
      "\n",
      "\n",
      "======= NB =======\n",
      "\n",
      "Temps d'exécution d'un cross val : 0.168809175491333 secondes\n",
      "Accuracy for NB is: 0.871 +/- 0.005\n",
      "AUC for NB is: 0.949 +/- 0.008\n",
      "precision for NB is: 0.510 +/- 0.024\n",
      "\n",
      "\n",
      "======= RF =======\n",
      "\n",
      "Temps d'exécution d'un cross val : 25.9538311958313 secondes\n",
      "Accuracy for RF is: 0.970 +/- 0.003\n",
      "AUC for RF is: 0.974 +/- 0.011\n",
      "precision for RF is: 0.992 +/- 0.007\n"
     ]
    }
   ],
   "source": [
    "clfs2 = {\n",
    "'NB': GaussianNB(),\n",
    "'RF': RandomForestClassifier(n_estimators=50, random_state=1)\n",
    "}\n",
    "\n",
    "svd = TruncatedSVD(n_components=200, n_iter=7, random_state=1)\n",
    "Xtrunc = svd.fit_transform(Xtfidf)\n",
    "\n",
    "run_classifiers(X=Xtrunc, Y=Ytxt, clfs=clfs2)"
   ]
  },
  {
   "cell_type": "markdown",
   "metadata": {},
   "source": [
    "Augmenter le nombre de dimensions à 200 ne change pas beaucoup l'AUC du random forest (0.975 à 0.974) mais augmente la précision 0.986 de 0.992. Cependant, les résultats de la classification restent plus bas que juste avec la vectorisation des chaines de caractères. La réduction des dimensions du jeu de données fait sans doute perdre de l'information ce qui baisse la qualité de la prédiction."
   ]
  },
  {
   "cell_type": "code",
   "execution_count": 201,
   "metadata": {},
   "outputs": [],
   "source": [
    "# Pipeline de traitement de texte pour la classification\n",
    "pipeline = Pipeline([\n",
    "    ('Vectorize', CountVectorizer()),\n",
    "    ('Weights', TfidfTransformer(smooth_idf=False)),\n",
    "    ('Truncation', TruncatedSVD(n_components=4, n_iter=7, random_state=1))])\n",
    "\n",
    "# Nouveau jeu de données\n",
    "DF = pd.read_csv('./yelp-text-by-stars.csv', sep=';', engine='python')\n",
    "arraydata2 = DF.values\n",
    "\n",
    "# Variables et labels\n",
    "Xyelp = arraydata2[:,1]\n",
    "Yyelp = arraydata2[:,0]\n",
    "Yyelp = Yyelp.astype(int)\n",
    "\n",
    "# Traitement des données de texte\n",
    "Xprocessed = pipeline.fit_transform(Xyelp)"
   ]
  },
  {
   "cell_type": "code",
   "execution_count": 202,
   "metadata": {},
   "outputs": [
    {
     "name": "stdout",
     "output_type": "stream",
     "text": [
      "\n",
      "\n",
      "======= MLP =======\n",
      "\n",
      "Temps d'exécution d'un cross val : 69.59812831878662 secondes\n",
      "Accuracy for MLP is: 0.489 +/- 0.003\n",
      "\n",
      "\n",
      "======= ID3 =======\n",
      "\n",
      "Temps d'exécution d'un cross val : 6.492163896560669 secondes\n",
      "Accuracy for ID3 is: 0.372 +/- 0.004\n",
      "\n",
      "\n",
      "======= ADABOOST =======\n",
      "\n",
      "Temps d'exécution d'un cross val : 13.109768152236938 secondes\n",
      "Accuracy for ADABOOST is: 0.481 +/- 0.003\n",
      "\n",
      "\n",
      "======= BAGGING =======\n",
      "\n",
      "Temps d'exécution d'un cross val : 75.81055498123169 secondes\n",
      "Accuracy for BAGGING is: 0.449 +/- 0.004\n",
      "\n",
      "\n",
      "======= KPPV =======\n",
      "\n",
      "Temps d'exécution d'un cross val : 1.444054126739502 secondes\n",
      "Accuracy for KPPV is: 0.433 +/- 0.001\n",
      "\n",
      "\n",
      "======= RF =======\n",
      "\n",
      "Temps d'exécution d'un cross val : 36.187769412994385 secondes\n",
      "Accuracy for RF is: 0.454 +/- 0.003\n",
      "\n",
      "\n",
      "======= CART =======\n",
      "\n",
      "Temps d'exécution d'un cross val : 2.0903873443603516 secondes\n",
      "Accuracy for CART is: 0.372 +/- 0.002\n",
      "\n",
      "\n",
      "======= NB =======\n",
      "\n",
      "Temps d'exécution d'un cross val : 0.1092081069946289 secondes\n",
      "Accuracy for NB is: 0.473 +/- 0.003\n"
     ]
    }
   ],
   "source": [
    "# On calcule seulement l'accuracy ici etant donné que c'est du multilabel (+reduit le temps de calcul)\n",
    "def run_classifiers_acc(clfs,X,Y):\n",
    "    X = StandardScaler().fit(X).transform(X)\n",
    "    kf = KFold(n_splits=3, shuffle=True, random_state=1)\n",
    "    for i in clfs:\n",
    "        clf = clfs[i]\n",
    "        print(\"\\n\\n======= {0} =======\".format(i))\n",
    "        start_time = time.time()\n",
    "        cv_acc = cross_val_score(clf, X, Y, cv=kf)\n",
    "        print('\\nTemps d\\'exécution d\\'un cross val : %s secondes'%(time.time() - start_time))\n",
    "        print(\"Accuracy for {0} is: {1:.3f} +/- {2:.3f}\".format(i, np.mean(cv_acc), np.std(cv_acc)))\n",
    "\n",
    "run_classifiers_acc(X=Xprocessed, Y=Yyelp, clfs=clfs)"
   ]
  },
  {
   "cell_type": "markdown",
   "metadata": {},
   "source": [
    "On constate que l'accuracy des différents modèle est relativement basse, avec un maximum de 0.489 pour le MLP. Les mathodes ensemblistes marchent presque aussi bien tout comme le Naive Bayesian classifieur (0.473). Ces scores bien plus bas que les précédents proviennent tout d'abord d'un nombre de dimensions choisi  bas  lors de la réduction des dimensions (4). Avec plus de temps, il faudrait essayer une valeur plus grand de ce paramètre. Cela prend du temps de tester plusieurs combinaisons avec plusieurs modèles, le jeu de données étant très grand.\n",
    "De plus, contrairement aux précédents, ce jeu est multilabels avec 5 valeurs possibles, ce qui complique grandement la tache de classification comme on peut le voir sur les résultats."
   ]
  }
 ],
 "metadata": {
  "kernelspec": {
   "display_name": "Python 3",
   "language": "python",
   "name": "python3"
  },
  "language_info": {
   "codemirror_mode": {
    "name": "ipython",
    "version": 3
   },
   "file_extension": ".py",
   "mimetype": "text/x-python",
   "name": "python",
   "nbconvert_exporter": "python",
   "pygments_lexer": "ipython3",
   "version": "3.5.4"
  }
 },
 "nbformat": 4,
 "nbformat_minor": 2
}
